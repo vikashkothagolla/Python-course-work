{
  "cells": [
    {
      "cell_type": "markdown",
      "metadata": {
        "id": "view-in-github",
        "colab_type": "text"
      },
      "source": [
        "<a href=\"https://colab.research.google.com/github/vikashkothagolla/Python-course-work/blob/main/pandas.ipynb\" target=\"_parent\"><img src=\"https://colab.research.google.com/assets/colab-badge.svg\" alt=\"Open In Colab\"/></a>"
      ]
    },
    {
      "cell_type": "code",
      "source": [
        "import pandas as pd\n",
        "products = [\"Laptop\", \"Bag\", \"Keyboard\", \"Monitor\"]\n",
        "prices = [7000, 150, 250, 1200]\n",
        "product_prices = pd.Series(prices, index=products)\n",
        "print(product_prices)\n"
      ],
      "metadata": {
        "id": "3agrpkwE1isf",
        "outputId": "0da8519e-5ab7-43da-a2d6-11d47b3438ce",
        "colab": {
          "base_uri": "https://localhost:8080/"
        }
      },
      "execution_count": 84,
      "outputs": [
        {
          "output_type": "stream",
          "name": "stdout",
          "text": [
            "Laptop      7000\n",
            "Bag          150\n",
            "Keyboard     250\n",
            "Monitor     1200\n",
            "dtype: int64\n"
          ]
        }
      ]
    },
    {
      "cell_type": "code",
      "source": [
        "print(\"Mean:\",product_prices.mean())"
      ],
      "metadata": {
        "id": "ajdnSHYW2ocm",
        "outputId": "b41b981a-80a2-4ba4-e68e-eef6986fdb9f",
        "colab": {
          "base_uri": "https://localhost:8080/"
        }
      },
      "execution_count": 85,
      "outputs": [
        {
          "output_type": "stream",
          "name": "stdout",
          "text": [
            "Mean: 2150.0\n"
          ]
        }
      ]
    },
    {
      "cell_type": "code",
      "source": [
        "print(\"Sum:\",product_prices.sum())"
      ],
      "metadata": {
        "id": "SMWcckO22zYs",
        "outputId": "1e87333d-79f9-42fd-f22d-fb7662d148ae",
        "colab": {
          "base_uri": "https://localhost:8080/"
        }
      },
      "execution_count": 86,
      "outputs": [
        {
          "output_type": "stream",
          "name": "stdout",
          "text": [
            "Sum: 8600\n"
          ]
        }
      ]
    },
    {
      "cell_type": "code",
      "source": [
        "print(\"Max:\",product_prices.max())"
      ],
      "metadata": {
        "id": "smUScObF23OK",
        "outputId": "01c4eb2a-3cb9-4c2c-9bf2-9beec54fcab9",
        "colab": {
          "base_uri": "https://localhost:8080/"
        }
      },
      "execution_count": 87,
      "outputs": [
        {
          "output_type": "stream",
          "name": "stdout",
          "text": [
            "Max: 7000\n"
          ]
        }
      ]
    },
    {
      "cell_type": "code",
      "source": [
        "print(\"Min:\",product_prices.min())"
      ],
      "metadata": {
        "id": "uN0IwyMc26p_",
        "outputId": "6fe4f7f9-32c7-48bf-d89c-ad675316b662",
        "colab": {
          "base_uri": "https://localhost:8080/"
        }
      },
      "execution_count": 88,
      "outputs": [
        {
          "output_type": "stream",
          "name": "stdout",
          "text": [
            "Min: 150\n"
          ]
        }
      ]
    },
    {
      "cell_type": "code",
      "source": [
        "print(product_prices.head(4))"
      ],
      "metadata": {
        "id": "lfVX-6rb2-am",
        "outputId": "97087215-7a27-48ca-f698-f91b8b106179",
        "colab": {
          "base_uri": "https://localhost:8080/"
        }
      },
      "execution_count": 89,
      "outputs": [
        {
          "output_type": "stream",
          "name": "stdout",
          "text": [
            "Laptop      7000\n",
            "Bag          150\n",
            "Keyboard     250\n",
            "Monitor     1200\n",
            "dtype: int64\n"
          ]
        }
      ]
    },
    {
      "cell_type": "code",
      "source": [
        "print(product_prices.tail(1))"
      ],
      "metadata": {
        "id": "cLf7UwQp3plT",
        "outputId": "ddf7e091-81c4-4333-8e4d-5203ce6b382c",
        "colab": {
          "base_uri": "https://localhost:8080/"
        }
      },
      "execution_count": 90,
      "outputs": [
        {
          "output_type": "stream",
          "name": "stdout",
          "text": [
            "Monitor    1200\n",
            "dtype: int64\n"
          ]
        }
      ]
    },
    {
      "cell_type": "code",
      "source": [
        "print(product_prices.std())"
      ],
      "metadata": {
        "id": "VQoic4tn4DEW",
        "outputId": "4aeef461-6857-4876-f016-dab4969c382f",
        "colab": {
          "base_uri": "https://localhost:8080/"
        }
      },
      "execution_count": 91,
      "outputs": [
        {
          "output_type": "stream",
          "name": "stdout",
          "text": [
            "3267.771921865621\n"
          ]
        }
      ]
    },
    {
      "cell_type": "code",
      "source": [
        "print(product_prices.median())"
      ],
      "metadata": {
        "id": "jHDK3dcs4F8V",
        "outputId": "03810330-6da1-4bc9-e432-ea4f65afd130",
        "colab": {
          "base_uri": "https://localhost:8080/"
        }
      },
      "execution_count": 92,
      "outputs": [
        {
          "output_type": "stream",
          "name": "stdout",
          "text": [
            "725.0\n"
          ]
        }
      ]
    },
    {
      "cell_type": "code",
      "source": [
        "print(\"Apply(adding 20% gst):\\n\",product_prices.apply(lambda x:f'x{x*0.2}'))"
      ],
      "metadata": {
        "id": "SnRxnQHF4KH8",
        "outputId": "251831ee-1e7f-4a1f-87b5-8819d6bd16d2",
        "colab": {
          "base_uri": "https://localhost:8080/"
        }
      },
      "execution_count": 93,
      "outputs": [
        {
          "output_type": "stream",
          "name": "stdout",
          "text": [
            "Apply(adding 20% gst):\n",
            " Laptop      x1400.0\n",
            "Bag           x30.0\n",
            "Keyboard      x50.0\n",
            "Monitor      x240.0\n",
            "dtype: object\n"
          ]
        }
      ]
    },
    {
      "cell_type": "code",
      "source": [
        "print(\"Map(formatting as currency):\\n\",product_prices.map(lambda x:f'${x}.00'))"
      ],
      "metadata": {
        "id": "Vd4nU_2-5y9F",
        "outputId": "19bec581-5ff6-4dde-96b8-dd1b9dcb083e",
        "colab": {
          "base_uri": "https://localhost:8080/"
        }
      },
      "execution_count": 94,
      "outputs": [
        {
          "output_type": "stream",
          "name": "stdout",
          "text": [
            "Map(formatting as currency):\n",
            " Laptop      $7000.00\n",
            "Bag          $150.00\n",
            "Keyboard     $250.00\n",
            "Monitor     $1200.00\n",
            "dtype: object\n"
          ]
        }
      ]
    },
    {
      "cell_type": "code",
      "source": [
        "print(product_prices.sort_values())"
      ],
      "metadata": {
        "id": "1Mlf8zTz6CJK",
        "outputId": "5d511f5c-13e2-4c6d-e2fa-9dee7c7ea18b",
        "colab": {
          "base_uri": "https://localhost:8080/"
        }
      },
      "execution_count": 95,
      "outputs": [
        {
          "output_type": "stream",
          "name": "stdout",
          "text": [
            "Bag          150\n",
            "Keyboard     250\n",
            "Monitor     1200\n",
            "Laptop      7000\n",
            "dtype: int64\n"
          ]
        }
      ]
    },
    {
      "cell_type": "code",
      "source": [
        "print(product_prices.sort_index())"
      ],
      "metadata": {
        "id": "x7fAjBCJ6qQ1",
        "outputId": "3a78d410-742f-4572-bd02-d685e2a1698e",
        "colab": {
          "base_uri": "https://localhost:8080/"
        }
      },
      "execution_count": 96,
      "outputs": [
        {
          "output_type": "stream",
          "name": "stdout",
          "text": [
            "Bag          150\n",
            "Keyboard     250\n",
            "Laptop      7000\n",
            "Monitor     1200\n",
            "dtype: int64\n"
          ]
        }
      ]
    },
    {
      "cell_type": "code",
      "source": [
        "print(product_prices.sort_index(ascending=False))"
      ],
      "metadata": {
        "id": "SUrSewHZ7Ij-",
        "outputId": "85218b83-36ad-409c-e1bf-cb4def7fe4f8",
        "colab": {
          "base_uri": "https://localhost:8080/"
        }
      },
      "execution_count": 97,
      "outputs": [
        {
          "output_type": "stream",
          "name": "stdout",
          "text": [
            "Monitor     1200\n",
            "Laptop      7000\n",
            "Keyboard     250\n",
            "Bag          150\n",
            "dtype: int64\n"
          ]
        }
      ]
    },
    {
      "cell_type": "code",
      "source": [
        "print(product_prices.value_counts())"
      ],
      "metadata": {
        "id": "Fxxs7olW7p9q",
        "outputId": "a3b7602c-4351-4eb4-f9f6-a6a17ab60711",
        "colab": {
          "base_uri": "https://localhost:8080/"
        }
      },
      "execution_count": 98,
      "outputs": [
        {
          "output_type": "stream",
          "name": "stdout",
          "text": [
            "7000    1\n",
            "150     1\n",
            "250     1\n",
            "1200    1\n",
            "Name: count, dtype: int64\n"
          ]
        }
      ]
    },
    {
      "cell_type": "code",
      "source": [
        "data={\n",
        "    \"product\":['phone','tab','computer','pc'],\n",
        "    \"price\":['100000','90909','898888','9090909'],\n",
        "    \"Brand\":['samsumg','mi','hp','acer'],\n",
        "    \"Bestseller\":[True,False,True,False]\n",
        "}\n",
        "df=pd.DataFrame(data)\n",
        "print(df)"
      ],
      "metadata": {
        "id": "jA88fTvs8J3n",
        "outputId": "44c1aab7-c8ee-407c-f3bf-b14a09aeb55c",
        "colab": {
          "base_uri": "https://localhost:8080/"
        }
      },
      "execution_count": 99,
      "outputs": [
        {
          "output_type": "stream",
          "name": "stdout",
          "text": [
            "    product    price    Brand  Bestseller\n",
            "0     phone   100000  samsumg        True\n",
            "1       tab    90909       mi       False\n",
            "2  computer   898888       hp        True\n",
            "3        pc  9090909     acer       False\n"
          ]
        }
      ]
    },
    {
      "cell_type": "code",
      "source": [
        "print(df.head(2))"
      ],
      "metadata": {
        "id": "TheNdJPV-Bmu",
        "outputId": "818b700a-b66f-45b6-92dd-e96734a2e13e",
        "colab": {
          "base_uri": "https://localhost:8080/"
        }
      },
      "execution_count": 100,
      "outputs": [
        {
          "output_type": "stream",
          "name": "stdout",
          "text": [
            "  product   price    Brand  Bestseller\n",
            "0   phone  100000  samsumg        True\n",
            "1     tab   90909       mi       False\n"
          ]
        }
      ]
    },
    {
      "cell_type": "code",
      "source": [
        "print(df.tail(2))"
      ],
      "metadata": {
        "id": "mzEBJxLX-KWV",
        "outputId": "44a60991-30f5-4da5-f86d-62c6863335f5",
        "colab": {
          "base_uri": "https://localhost:8080/"
        }
      },
      "execution_count": 101,
      "outputs": [
        {
          "output_type": "stream",
          "name": "stdout",
          "text": [
            "    product    price Brand  Bestseller\n",
            "2  computer   898888    hp        True\n",
            "3        pc  9090909  acer       False\n"
          ]
        }
      ]
    },
    {
      "cell_type": "code",
      "source": [
        "print(df.shape)"
      ],
      "metadata": {
        "id": "eeLPEDna-SBe",
        "outputId": "7376dd7a-b51b-45c3-c19f-e4933569dd36",
        "colab": {
          "base_uri": "https://localhost:8080/"
        }
      },
      "execution_count": 102,
      "outputs": [
        {
          "output_type": "stream",
          "name": "stdout",
          "text": [
            "(4, 4)\n"
          ]
        }
      ]
    },
    {
      "cell_type": "code",
      "source": [
        "print(df.columns)"
      ],
      "metadata": {
        "id": "i0nfpf_h-U4P",
        "outputId": "64133d2b-967f-454b-a583-d9bb1300665e",
        "colab": {
          "base_uri": "https://localhost:8080/"
        }
      },
      "execution_count": 103,
      "outputs": [
        {
          "output_type": "stream",
          "name": "stdout",
          "text": [
            "Index(['product', 'price', 'Brand', 'Bestseller'], dtype='object')\n"
          ]
        }
      ]
    },
    {
      "cell_type": "code",
      "source": [
        "print(df.index)"
      ],
      "metadata": {
        "id": "TTU_fPG5_Nx0",
        "outputId": "8e5d4652-90b4-431b-e3d5-b07f0e1d1f88",
        "colab": {
          "base_uri": "https://localhost:8080/"
        }
      },
      "execution_count": 104,
      "outputs": [
        {
          "output_type": "stream",
          "name": "stdout",
          "text": [
            "RangeIndex(start=0, stop=4, step=1)\n"
          ]
        }
      ]
    },
    {
      "cell_type": "code",
      "source": [
        "print(df.info())"
      ],
      "metadata": {
        "id": "7hLYEf6h_Skr",
        "outputId": "f210ec10-34fa-405c-feaa-0cb5b24622bf",
        "colab": {
          "base_uri": "https://localhost:8080/"
        }
      },
      "execution_count": 105,
      "outputs": [
        {
          "output_type": "stream",
          "name": "stdout",
          "text": [
            "<class 'pandas.core.frame.DataFrame'>\n",
            "RangeIndex: 4 entries, 0 to 3\n",
            "Data columns (total 4 columns):\n",
            " #   Column      Non-Null Count  Dtype \n",
            "---  ------      --------------  ----- \n",
            " 0   product     4 non-null      object\n",
            " 1   price       4 non-null      object\n",
            " 2   Brand       4 non-null      object\n",
            " 3   Bestseller  4 non-null      bool  \n",
            "dtypes: bool(1), object(3)\n",
            "memory usage: 232.0+ bytes\n",
            "None\n"
          ]
        }
      ]
    },
    {
      "cell_type": "code",
      "source": [
        "print(df.describe())"
      ],
      "metadata": {
        "id": "lMp7kzAV_-Io",
        "outputId": "4620962b-3100-49f0-f027-3aa4640215a1",
        "colab": {
          "base_uri": "https://localhost:8080/"
        }
      },
      "execution_count": 106,
      "outputs": [
        {
          "output_type": "stream",
          "name": "stdout",
          "text": [
            "       product   price    Brand Bestseller\n",
            "count        4       4        4          4\n",
            "unique       4       4        4          2\n",
            "top      phone  100000  samsumg       True\n",
            "freq         1       1        1          2\n"
          ]
        }
      ]
    },
    {
      "cell_type": "code",
      "source": [
        "print(df.head())"
      ],
      "metadata": {
        "id": "zbJ-BFDAAf8e",
        "outputId": "79acb3ee-3298-4dc1-d4fc-cdc66de80a59",
        "colab": {
          "base_uri": "https://localhost:8080/"
        }
      },
      "execution_count": 107,
      "outputs": [
        {
          "output_type": "stream",
          "name": "stdout",
          "text": [
            "    product    price    Brand  Bestseller\n",
            "0     phone   100000  samsumg        True\n",
            "1       tab    90909       mi       False\n",
            "2  computer   898888       hp        True\n",
            "3        pc  9090909     acer       False\n"
          ]
        }
      ]
    },
    {
      "cell_type": "code",
      "source": [
        "print(df.tail())"
      ],
      "metadata": {
        "id": "e-RY5ByLBTNC",
        "outputId": "c29976b3-c97c-4c6e-b7b8-f7083a7e4d2b",
        "colab": {
          "base_uri": "https://localhost:8080/"
        }
      },
      "execution_count": 108,
      "outputs": [
        {
          "output_type": "stream",
          "name": "stdout",
          "text": [
            "    product    price    Brand  Bestseller\n",
            "0     phone   100000  samsumg        True\n",
            "1       tab    90909       mi       False\n",
            "2  computer   898888       hp        True\n",
            "3        pc  9090909     acer       False\n"
          ]
        }
      ]
    },
    {
      "cell_type": "code",
      "source": [
        "print(df)"
      ],
      "metadata": {
        "id": "l1ChuxQOBWDs",
        "outputId": "eb7a4b8c-261b-494c-ebef-805a2b4e5ce1",
        "colab": {
          "base_uri": "https://localhost:8080/"
        }
      },
      "execution_count": 109,
      "outputs": [
        {
          "output_type": "stream",
          "name": "stdout",
          "text": [
            "    product    price    Brand  Bestseller\n",
            "0     phone   100000  samsumg        True\n",
            "1       tab    90909       mi       False\n",
            "2  computer   898888       hp        True\n",
            "3        pc  9090909     acer       False\n"
          ]
        }
      ]
    },
    {
      "cell_type": "code",
      "source": [
        "print(df.loc[1,\"product\"]) # for names and labels\n",
        "print(df.loc[0,\"Brand\"])\n",
        "print(df.loc[2,\"Bestseller\"])\n",
        "\n",
        "\n",
        "print(df.iloc[3,3]) # for indexs\n",
        "print(df.iloc[1,2])"
      ],
      "metadata": {
        "id": "MFIz5QW8Ct6U",
        "outputId": "42ced193-1dee-4a98-8144-e9ed5bc1ae1e",
        "colab": {
          "base_uri": "https://localhost:8080/"
        }
      },
      "execution_count": 112,
      "outputs": [
        {
          "output_type": "stream",
          "name": "stdout",
          "text": [
            "tab\n",
            "samsumg\n",
            "True\n",
            "False\n",
            "mi\n"
          ]
        }
      ]
    },
    {
      "cell_type": "code",
      "source": [
        "\n",
        "print(\"for entire row:\\n\",df.iloc[3])"
      ],
      "metadata": {
        "id": "V4Rt4J7EDaLY",
        "outputId": "d2af6a58-85fd-4432-bf26-01484d37701a",
        "colab": {
          "base_uri": "https://localhost:8080/"
        }
      },
      "execution_count": 120,
      "outputs": [
        {
          "output_type": "stream",
          "name": "stdout",
          "text": [
            "for entire row:\n",
            " product            pc\n",
            "price         9090909\n",
            "Brand            acer\n",
            "Bestseller      False\n",
            "Name: 3, dtype: object\n"
          ]
        }
      ]
    },
    {
      "cell_type": "code",
      "source": [
        "print(df)\n",
        "print(df.iloc[df[\"price\"]==True])"
      ],
      "metadata": {
        "id": "Wc34zP4CEUez",
        "outputId": "34e325ab-182f-4a33-db88-a44b9de19278",
        "colab": {
          "base_uri": "https://localhost:8080/",
          "height": 391
        }
      },
      "execution_count": 129,
      "outputs": [
        {
          "output_type": "stream",
          "name": "stdout",
          "text": [
            "    product    price    Brand  Bestseller\n",
            "0     phone   100000  samsumg        True\n",
            "1       tab    90909       mi       False\n",
            "2  computer   898888       hp        True\n",
            "3        pc  9090909     acer       False\n"
          ]
        },
        {
          "output_type": "error",
          "ename": "NotImplementedError",
          "evalue": "iLocation based boolean indexing on an integer type is not available",
          "traceback": [
            "\u001b[0;31m---------------------------------------------------------------------------\u001b[0m",
            "\u001b[0;31mNotImplementedError\u001b[0m                       Traceback (most recent call last)",
            "\u001b[0;32m/tmp/ipython-input-237758166.py\u001b[0m in \u001b[0;36m<cell line: 0>\u001b[0;34m()\u001b[0m\n\u001b[1;32m      1\u001b[0m \u001b[0mprint\u001b[0m\u001b[0;34m(\u001b[0m\u001b[0mdf\u001b[0m\u001b[0;34m)\u001b[0m\u001b[0;34m\u001b[0m\u001b[0;34m\u001b[0m\u001b[0m\n\u001b[0;32m----> 2\u001b[0;31m \u001b[0mprint\u001b[0m\u001b[0;34m(\u001b[0m\u001b[0mdf\u001b[0m\u001b[0;34m.\u001b[0m\u001b[0miloc\u001b[0m\u001b[0;34m[\u001b[0m\u001b[0mdf\u001b[0m\u001b[0;34m[\u001b[0m\u001b[0;34m\"price\"\u001b[0m\u001b[0;34m]\u001b[0m\u001b[0;34m==\u001b[0m\u001b[0;32mTrue\u001b[0m\u001b[0;34m]\u001b[0m\u001b[0;34m)\u001b[0m\u001b[0;34m\u001b[0m\u001b[0;34m\u001b[0m\u001b[0m\n\u001b[0m",
            "\u001b[0;32m/usr/local/lib/python3.12/dist-packages/pandas/core/indexing.py\u001b[0m in \u001b[0;36m__getitem__\u001b[0;34m(self, key)\u001b[0m\n\u001b[1;32m   1189\u001b[0m             \u001b[0mmaybe_callable\u001b[0m \u001b[0;34m=\u001b[0m \u001b[0mcom\u001b[0m\u001b[0;34m.\u001b[0m\u001b[0mapply_if_callable\u001b[0m\u001b[0;34m(\u001b[0m\u001b[0mkey\u001b[0m\u001b[0;34m,\u001b[0m \u001b[0mself\u001b[0m\u001b[0;34m.\u001b[0m\u001b[0mobj\u001b[0m\u001b[0;34m)\u001b[0m\u001b[0;34m\u001b[0m\u001b[0;34m\u001b[0m\u001b[0m\n\u001b[1;32m   1190\u001b[0m             \u001b[0mmaybe_callable\u001b[0m \u001b[0;34m=\u001b[0m \u001b[0mself\u001b[0m\u001b[0;34m.\u001b[0m\u001b[0m_check_deprecated_callable_usage\u001b[0m\u001b[0;34m(\u001b[0m\u001b[0mkey\u001b[0m\u001b[0;34m,\u001b[0m \u001b[0mmaybe_callable\u001b[0m\u001b[0;34m)\u001b[0m\u001b[0;34m\u001b[0m\u001b[0;34m\u001b[0m\u001b[0m\n\u001b[0;32m-> 1191\u001b[0;31m             \u001b[0;32mreturn\u001b[0m \u001b[0mself\u001b[0m\u001b[0;34m.\u001b[0m\u001b[0m_getitem_axis\u001b[0m\u001b[0;34m(\u001b[0m\u001b[0mmaybe_callable\u001b[0m\u001b[0;34m,\u001b[0m \u001b[0maxis\u001b[0m\u001b[0;34m=\u001b[0m\u001b[0maxis\u001b[0m\u001b[0;34m)\u001b[0m\u001b[0;34m\u001b[0m\u001b[0;34m\u001b[0m\u001b[0m\n\u001b[0m\u001b[1;32m   1192\u001b[0m \u001b[0;34m\u001b[0m\u001b[0m\n\u001b[1;32m   1193\u001b[0m     \u001b[0;32mdef\u001b[0m \u001b[0m_is_scalar_access\u001b[0m\u001b[0;34m(\u001b[0m\u001b[0mself\u001b[0m\u001b[0;34m,\u001b[0m \u001b[0mkey\u001b[0m\u001b[0;34m:\u001b[0m \u001b[0mtuple\u001b[0m\u001b[0;34m)\u001b[0m\u001b[0;34m:\u001b[0m\u001b[0;34m\u001b[0m\u001b[0;34m\u001b[0m\u001b[0m\n",
            "\u001b[0;32m/usr/local/lib/python3.12/dist-packages/pandas/core/indexing.py\u001b[0m in \u001b[0;36m_getitem_axis\u001b[0;34m(self, key, axis)\u001b[0m\n\u001b[1;32m   1736\u001b[0m \u001b[0;34m\u001b[0m\u001b[0m\n\u001b[1;32m   1737\u001b[0m         \u001b[0;32mif\u001b[0m \u001b[0mcom\u001b[0m\u001b[0;34m.\u001b[0m\u001b[0mis_bool_indexer\u001b[0m\u001b[0;34m(\u001b[0m\u001b[0mkey\u001b[0m\u001b[0;34m)\u001b[0m\u001b[0;34m:\u001b[0m\u001b[0;34m\u001b[0m\u001b[0;34m\u001b[0m\u001b[0m\n\u001b[0;32m-> 1738\u001b[0;31m             \u001b[0mself\u001b[0m\u001b[0;34m.\u001b[0m\u001b[0m_validate_key\u001b[0m\u001b[0;34m(\u001b[0m\u001b[0mkey\u001b[0m\u001b[0;34m,\u001b[0m \u001b[0maxis\u001b[0m\u001b[0;34m)\u001b[0m\u001b[0;34m\u001b[0m\u001b[0;34m\u001b[0m\u001b[0m\n\u001b[0m\u001b[1;32m   1739\u001b[0m             \u001b[0;32mreturn\u001b[0m \u001b[0mself\u001b[0m\u001b[0;34m.\u001b[0m\u001b[0m_getbool_axis\u001b[0m\u001b[0;34m(\u001b[0m\u001b[0mkey\u001b[0m\u001b[0;34m,\u001b[0m \u001b[0maxis\u001b[0m\u001b[0;34m=\u001b[0m\u001b[0maxis\u001b[0m\u001b[0;34m)\u001b[0m\u001b[0;34m\u001b[0m\u001b[0;34m\u001b[0m\u001b[0m\n\u001b[1;32m   1740\u001b[0m \u001b[0;34m\u001b[0m\u001b[0m\n",
            "\u001b[0;32m/usr/local/lib/python3.12/dist-packages/pandas/core/indexing.py\u001b[0m in \u001b[0;36m_validate_key\u001b[0;34m(self, key, axis)\u001b[0m\n\u001b[1;32m   1576\u001b[0m             \u001b[0;32mif\u001b[0m \u001b[0mhasattr\u001b[0m\u001b[0;34m(\u001b[0m\u001b[0mkey\u001b[0m\u001b[0;34m,\u001b[0m \u001b[0;34m\"index\"\u001b[0m\u001b[0;34m)\u001b[0m \u001b[0;32mand\u001b[0m \u001b[0misinstance\u001b[0m\u001b[0;34m(\u001b[0m\u001b[0mkey\u001b[0m\u001b[0;34m.\u001b[0m\u001b[0mindex\u001b[0m\u001b[0;34m,\u001b[0m \u001b[0mIndex\u001b[0m\u001b[0;34m)\u001b[0m\u001b[0;34m:\u001b[0m\u001b[0;34m\u001b[0m\u001b[0;34m\u001b[0m\u001b[0m\n\u001b[1;32m   1577\u001b[0m                 \u001b[0;32mif\u001b[0m \u001b[0mkey\u001b[0m\u001b[0;34m.\u001b[0m\u001b[0mindex\u001b[0m\u001b[0;34m.\u001b[0m\u001b[0minferred_type\u001b[0m \u001b[0;34m==\u001b[0m \u001b[0;34m\"integer\"\u001b[0m\u001b[0;34m:\u001b[0m\u001b[0;34m\u001b[0m\u001b[0;34m\u001b[0m\u001b[0m\n\u001b[0;32m-> 1578\u001b[0;31m                     raise NotImplementedError(\n\u001b[0m\u001b[1;32m   1579\u001b[0m                         \u001b[0;34m\"iLocation based boolean \"\u001b[0m\u001b[0;34m\u001b[0m\u001b[0;34m\u001b[0m\u001b[0m\n\u001b[1;32m   1580\u001b[0m                         \u001b[0;34m\"indexing on an integer type \"\u001b[0m\u001b[0;34m\u001b[0m\u001b[0;34m\u001b[0m\u001b[0m\n",
            "\u001b[0;31mNotImplementedError\u001b[0m: iLocation based boolean indexing on an integer type is not available"
          ]
        }
      ]
    },
    {
      "cell_type": "code",
      "source": [],
      "metadata": {
        "id": "ww31uy0gE8eG"
      },
      "execution_count": null,
      "outputs": []
    }
  ],
  "metadata": {
    "colab": {
      "name": "Welcome To Colab",
      "provenance": [],
      "include_colab_link": true
    },
    "kernelspec": {
      "display_name": "Python 3",
      "name": "python3"
    }
  },
  "nbformat": 4,
  "nbformat_minor": 0
}