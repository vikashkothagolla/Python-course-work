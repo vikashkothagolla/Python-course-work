{
  "cells": [
    {
      "cell_type": "markdown",
      "metadata": {
        "id": "view-in-github",
        "colab_type": "text"
      },
      "source": [
        "<a href=\"https://colab.research.google.com/github/vikashkothagolla/Python-course-work/blob/main/Copy_of_Welcome_To_Colab.ipynb\" target=\"_parent\"><img src=\"https://colab.research.google.com/assets/colab-badge.svg\" alt=\"Open In Colab\"/></a>"
      ]
    },
    {
      "cell_type": "code",
      "source": [
        "a=3\n",
        "print(a)"
      ],
      "metadata": {
        "id": "P_cnIqM6jf0m",
        "outputId": "13f5861e-e1ee-4ea3-d0d7-1b624f8d10b0",
        "colab": {
          "base_uri": "https://localhost:8080/"
        }
      },
      "execution_count": null,
      "outputs": [
        {
          "output_type": "stream",
          "name": "stdout",
          "text": [
            "3\n"
          ]
        }
      ]
    },
    {
      "cell_type": "code",
      "source": [
        "import numpy as np"
      ],
      "metadata": {
        "id": "_cPRwyl6jyV3"
      },
      "execution_count": null,
      "outputs": []
    },
    {
      "cell_type": "code",
      "source": [
        "arr1=np.array([1,2,34])"
      ],
      "metadata": {
        "id": "XVGGOZfbkQjR"
      },
      "execution_count": null,
      "outputs": []
    },
    {
      "cell_type": "code",
      "source": [
        "arr1"
      ],
      "metadata": {
        "colab": {
          "base_uri": "https://localhost:8080/"
        },
        "id": "vyY1ofxNkXWs",
        "outputId": "f2fb349c-4a10-413a-b916-a251691f2e4f"
      },
      "execution_count": null,
      "outputs": [
        {
          "output_type": "execute_result",
          "data": {
            "text/plain": [
              "array([ 1,  2, 34])"
            ]
          },
          "metadata": {},
          "execution_count": 4
        }
      ]
    },
    {
      "cell_type": "code",
      "source": [
        "arr2=np.array([[1,2,3],[8,2,11]])\n",
        "print(arr2)"
      ],
      "metadata": {
        "colab": {
          "base_uri": "https://localhost:8080/"
        },
        "id": "FZKct_2fkYT_",
        "outputId": "52aa752c-5d9f-4162-9b6d-e6eb838e29ea"
      },
      "execution_count": null,
      "outputs": [
        {
          "output_type": "stream",
          "name": "stdout",
          "text": [
            "[[ 1  2  3]\n",
            " [ 8  2 11]]\n"
          ]
        }
      ]
    },
    {
      "cell_type": "code",
      "source": [
        "arr3=np.array([[[1,2],[5,7]],[[6,8],[0,9]]])\n",
        "print(arr3)"
      ],
      "metadata": {
        "colab": {
          "base_uri": "https://localhost:8080/"
        },
        "id": "2ANiGG7NkpNz",
        "outputId": "449283f5-a462-4a64-bcfb-e3ec363aab97"
      },
      "execution_count": null,
      "outputs": [
        {
          "output_type": "stream",
          "name": "stdout",
          "text": [
            "[[[1 2]\n",
            "  [5 7]]\n",
            "\n",
            " [[6 8]\n",
            "  [0 9]]]\n"
          ]
        }
      ]
    },
    {
      "cell_type": "code",
      "source": [
        "zeros=np.zeros((2,7))\n",
        "print(zeros)"
      ],
      "metadata": {
        "colab": {
          "base_uri": "https://localhost:8080/"
        },
        "id": "TkdDKqFUlWC2",
        "outputId": "4cdfa8a9-002e-45f1-e8fa-0ec218defb61"
      },
      "execution_count": null,
      "outputs": [
        {
          "output_type": "stream",
          "name": "stdout",
          "text": [
            "[[0. 0. 0. 0. 0. 0. 0.]\n",
            " [0. 0. 0. 0. 0. 0. 0.]]\n"
          ]
        }
      ]
    },
    {
      "cell_type": "code",
      "source": [
        "ones=np.ones((2,7))\n",
        "print(ones)"
      ],
      "metadata": {
        "colab": {
          "base_uri": "https://localhost:8080/"
        },
        "id": "D37eclplln3m",
        "outputId": "f9dfd67b-d765-49ce-b4f5-e3240e0df318"
      },
      "execution_count": null,
      "outputs": [
        {
          "output_type": "stream",
          "name": "stdout",
          "text": [
            "[[1. 1. 1. 1. 1. 1. 1.]\n",
            " [1. 1. 1. 1. 1. 1. 1.]]\n"
          ]
        }
      ]
    },
    {
      "cell_type": "code",
      "source": [
        "identity=np.eye(9)\n",
        "print(identity)\n"
      ],
      "metadata": {
        "colab": {
          "base_uri": "https://localhost:8080/"
        },
        "id": "73cVcUNNlx2n",
        "outputId": "8205604b-4e0c-4f54-ce22-67e0aac77699"
      },
      "execution_count": null,
      "outputs": [
        {
          "output_type": "stream",
          "name": "stdout",
          "text": [
            "[[1. 0. 0. 0. 0. 0. 0. 0. 0.]\n",
            " [0. 1. 0. 0. 0. 0. 0. 0. 0.]\n",
            " [0. 0. 1. 0. 0. 0. 0. 0. 0.]\n",
            " [0. 0. 0. 1. 0. 0. 0. 0. 0.]\n",
            " [0. 0. 0. 0. 1. 0. 0. 0. 0.]\n",
            " [0. 0. 0. 0. 0. 1. 0. 0. 0.]\n",
            " [0. 0. 0. 0. 0. 0. 1. 0. 0.]\n",
            " [0. 0. 0. 0. 0. 0. 0. 1. 0.]\n",
            " [0. 0. 0. 0. 0. 0. 0. 0. 1.]]\n"
          ]
        }
      ]
    },
    {
      "cell_type": "code",
      "source": [
        "full_array=np.full((4,2),\"booked\")\n",
        "print(full_array)"
      ],
      "metadata": {
        "colab": {
          "base_uri": "https://localhost:8080/"
        },
        "id": "L1jqh8ksl0a0",
        "outputId": "f8351ad3-1390-40cd-d212-8b9c2918dd84"
      },
      "execution_count": null,
      "outputs": [
        {
          "output_type": "stream",
          "name": "stdout",
          "text": [
            "[['booked' 'booked']\n",
            " ['booked' 'booked']\n",
            " ['booked' 'booked']\n",
            " ['booked' 'booked']]\n"
          ]
        }
      ]
    },
    {
      "cell_type": "code",
      "source": [
        "range_arr=np.arange(2,101,2)\n",
        "print(range_arr)"
      ],
      "metadata": {
        "colab": {
          "base_uri": "https://localhost:8080/"
        },
        "id": "5n7tHCmLmoxF",
        "outputId": "23b69bb6-7d70-47cd-e48a-4ae8385167cc"
      },
      "execution_count": null,
      "outputs": [
        {
          "output_type": "stream",
          "name": "stdout",
          "text": [
            "[  2   4   6   8  10  12  14  16  18  20  22  24  26  28  30  32  34  36\n",
            "  38  40  42  44  46  48  50  52  54  56  58  60  62  64  66  68  70  72\n",
            "  74  76  78  80  82  84  86  88  90  92  94  96  98 100]\n"
          ]
        }
      ]
    },
    {
      "cell_type": "code",
      "source": [
        "lin_space=np.linspace(0,10,5)\n",
        "print(lin_space)"
      ],
      "metadata": {
        "colab": {
          "base_uri": "https://localhost:8080/"
        },
        "id": "_fEKOkCYm1XO",
        "outputId": "b203e51b-efc6-401c-ed0f-2d625c5f38a3"
      },
      "execution_count": null,
      "outputs": [
        {
          "output_type": "stream",
          "name": "stdout",
          "text": [
            "[ 0.   2.5  5.   7.5 10. ]\n"
          ]
        }
      ]
    },
    {
      "cell_type": "code",
      "source": [
        "rand_int=np.random.randint(0,9,(7,7)) # 0,9 in b/w random values and 7,7 rows and columns\n",
        "print(rand_int)"
      ],
      "metadata": {
        "colab": {
          "base_uri": "https://localhost:8080/"
        },
        "id": "o6SJ-bzypFcm",
        "outputId": "8dde1ed1-dbfe-4ec5-8f2a-7f8220a41eca"
      },
      "execution_count": null,
      "outputs": [
        {
          "output_type": "stream",
          "name": "stdout",
          "text": [
            "[[1 5 5 2 5 4 0]\n",
            " [5 6 6 5 7 6 0]\n",
            " [8 6 4 3 0 0 0]\n",
            " [8 8 5 3 3 5 3]\n",
            " [0 3 0 3 4 6 0]\n",
            " [7 7 4 0 7 4 1]\n",
            " [3 4 7 5 2 6 5]]\n"
          ]
        }
      ]
    },
    {
      "cell_type": "code",
      "source": [
        "rand_float=np.random.rand(8,9) # 0,9 in b/w random values\n",
        "print(rand_float)"
      ],
      "metadata": {
        "colab": {
          "base_uri": "https://localhost:8080/"
        },
        "id": "MLv0FuMmqXaw",
        "outputId": "faefbcd7-fa9a-4064-b259-0cd2d36f754d"
      },
      "execution_count": null,
      "outputs": [
        {
          "output_type": "stream",
          "name": "stdout",
          "text": [
            "[[0.59857511 0.96191398 0.90160609 0.60004021 0.35046081 0.48739569\n",
            "  0.19913714 0.34652325 0.93253789]\n",
            " [0.65509154 0.65529829 0.7062997  0.61331392 0.47584166 0.85783898\n",
            "  0.63149942 0.47355956 0.96414455]\n",
            " [0.09081318 0.24678994 0.46983082 0.26823832 0.76108466 0.96791786\n",
            "  0.18651473 0.27456339 0.34564968]\n",
            " [0.54558086 0.77449752 0.58237531 0.15996809 0.46776288 0.31423508\n",
            "  0.42235755 0.22475976 0.93374645]\n",
            " [0.24051059 0.49718277 0.59327773 0.52534761 0.96190211 0.24245908\n",
            "  0.05202005 0.65476805 0.77816206]\n",
            " [0.10421072 0.36985331 0.42405771 0.43832327 0.75727653 0.20616765\n",
            "  0.04116747 0.36768201 0.03117874]\n",
            " [0.37281626 0.01629923 0.76769631 0.36136967 0.56513478 0.38533053\n",
            "  0.21853971 0.44464339 0.73493165]\n",
            " [0.18360417 0.19206428 0.55508435 0.18210658 0.49796347 0.22967247\n",
            "  0.70867845 0.51095095 0.17333692]]\n"
          ]
        }
      ]
    },
    {
      "cell_type": "code",
      "source": [
        "rand_norm=np.random.randn(3,9) # normal distribution 3,3 in b/w random values\n",
        "print(rand_norm)"
      ],
      "metadata": {
        "colab": {
          "base_uri": "https://localhost:8080/"
        },
        "id": "VJ2GgmyHrJCv",
        "outputId": "3f777346-3bac-40cf-8055-7423a7ced582"
      },
      "execution_count": null,
      "outputs": [
        {
          "output_type": "stream",
          "name": "stdout",
          "text": [
            "[[-1.18289442 -0.00217296  0.67259058 -0.92128537 -0.80040253 -0.98792007\n",
            "   0.49750699 -0.68980227 -0.27916615]\n",
            " [ 1.59929324 -1.22677847 -1.27721947 -0.65322338  0.87975119 -0.51901378\n",
            "   0.27547477  0.80254697 -1.09896008]\n",
            " [ 0.66696312 -1.02102902  0.44082563  0.61974914  0.922595   -1.1837459\n",
            "   0.64292416  1.00999037 -0.58091088]]\n"
          ]
        }
      ]
    },
    {
      "cell_type": "code",
      "source": [
        "rand_choice=np.random.choice([\"lg\",\"samsumg\",\"pansonic\",\"sony\"],3)\n",
        "print(rand_choice)"
      ],
      "metadata": {
        "colab": {
          "base_uri": "https://localhost:8080/"
        },
        "id": "j6Qb5Hp3sCRY",
        "outputId": "5ade6657-005a-485a-fafb-020ff52c8a7c"
      },
      "execution_count": null,
      "outputs": [
        {
          "output_type": "stream",
          "name": "stdout",
          "text": [
            "['pansonic' 'lg' 'sony']\n"
          ]
        }
      ]
    },
    {
      "cell_type": "code",
      "source": [
        "np.random.seed(10) # constant varible\n",
        "rand_arr=np.random.randint(8)\n",
        "print(rand_arr)"
      ],
      "metadata": {
        "colab": {
          "base_uri": "https://localhost:8080/"
        },
        "id": "wd9kSZiBsnJv",
        "outputId": "8e4b2d21-ed65-48cf-8898-4ff83b85daed"
      },
      "execution_count": null,
      "outputs": [
        {
          "output_type": "stream",
          "name": "stdout",
          "text": [
            "1\n"
          ]
        }
      ]
    },
    {
      "cell_type": "code",
      "source": [],
      "metadata": {
        "id": "06QynNVDuIxI"
      },
      "execution_count": null,
      "outputs": []
    },
    {
      "cell_type": "code",
      "source": [
        "arr=np.array([[1,2],[8,9],[8,0],[9,7]])\n",
        "print(arr)"
      ],
      "metadata": {
        "colab": {
          "base_uri": "https://localhost:8080/"
        },
        "id": "vZlZBHAGtRs_",
        "outputId": "e88e57e2-86f8-41c9-f32d-248e2b2d8159"
      },
      "execution_count": null,
      "outputs": [
        {
          "output_type": "stream",
          "name": "stdout",
          "text": [
            "[[1 2]\n",
            " [8 9]\n",
            " [8 0]\n",
            " [9 7]]\n"
          ]
        }
      ]
    },
    {
      "cell_type": "code",
      "source": [
        "arr.shape"
      ],
      "metadata": {
        "colab": {
          "base_uri": "https://localhost:8080/"
        },
        "id": "5Z8KUAhXuFwq",
        "outputId": "aa537558-89a2-4e01-b764-11334331f411"
      },
      "execution_count": null,
      "outputs": [
        {
          "output_type": "execute_result",
          "data": {
            "text/plain": [
              "(4, 2)"
            ]
          },
          "metadata": {},
          "execution_count": 65
        }
      ]
    },
    {
      "cell_type": "code",
      "source": [
        "reshaped=arr.reshape(4,2)\n",
        "print(reshaped)"
      ],
      "metadata": {
        "colab": {
          "base_uri": "https://localhost:8080/"
        },
        "id": "jCGshjgJuHuU",
        "outputId": "17c3b704-5009-43a3-d5c0-db05901a9265"
      },
      "execution_count": null,
      "outputs": [
        {
          "output_type": "stream",
          "name": "stdout",
          "text": [
            "[[1 2]\n",
            " [8 9]\n",
            " [8 0]\n",
            " [9 7]]\n"
          ]
        }
      ]
    },
    {
      "cell_type": "code",
      "source": [
        "a=np.array([[11,2,3,4],[8,9,3,4]])\n",
        "flattened=a.flatten()\n",
        "print(flattened)"
      ],
      "metadata": {
        "colab": {
          "base_uri": "https://localhost:8080/"
        },
        "id": "v-h75MW0utqY",
        "outputId": "fb62ecd3-a142-4334-ffce-0c4becb1af7d"
      },
      "execution_count": null,
      "outputs": [
        {
          "output_type": "stream",
          "name": "stdout",
          "text": [
            "[11  2  3  4  8  9  3  4]\n"
          ]
        }
      ]
    },
    {
      "cell_type": "code",
      "source": [
        "transposed=arr.T\n",
        "print(transposed)"
      ],
      "metadata": {
        "colab": {
          "base_uri": "https://localhost:8080/"
        },
        "id": "6M9Ny1K2vYqQ",
        "outputId": "36039c8e-8469-4ee2-883f-caf26055d1a6"
      },
      "execution_count": null,
      "outputs": [
        {
          "output_type": "stream",
          "name": "stdout",
          "text": [
            "[[1 8 8 9]\n",
            " [2 9 0 7]]\n"
          ]
        }
      ]
    },
    {
      "cell_type": "code",
      "source": [
        "arr=np.array([10,20,30,40,59])\n",
        "print(arr[0])\n",
        "print(arr[-1])\n",
        "print(arr[1:4])\n",
        "print(arr[:5])\n",
        "print(arr[:3])\n",
        "print(arr[::3])"
      ],
      "metadata": {
        "colab": {
          "base_uri": "https://localhost:8080/"
        },
        "id": "4iAo8gwZvm07",
        "outputId": "ea17f474-8262-45fe-a45f-f7028235e0a7"
      },
      "execution_count": null,
      "outputs": [
        {
          "output_type": "stream",
          "name": "stdout",
          "text": [
            "10\n",
            "59\n",
            "[20 30 40]\n",
            "[10 20 30 40 59]\n",
            "[10 20 30]\n",
            "[10 40]\n"
          ]
        }
      ]
    },
    {
      "cell_type": "code",
      "source": [
        "matrix=np.array([[1,2,3,4],[5,6,7,8],[9,10,11,12]]) # col as 1 2 3 as index\n",
        "print(matrix[0,1])\n",
        "print(matrix[0:2],2)"
      ],
      "metadata": {
        "colab": {
          "base_uri": "https://localhost:8080/"
        },
        "id": "xtB5UofLxeSg",
        "outputId": "276b4272-f2e0-43a4-dc69-b1b352b3632f"
      },
      "execution_count": null,
      "outputs": [
        {
          "output_type": "stream",
          "name": "stdout",
          "text": [
            "2\n",
            "[[1 2 3 4]\n",
            " [5 6 7 8]] 2\n"
          ]
        }
      ]
    },
    {
      "cell_type": "code",
      "source": [
        "arr=np.array([1,2,3,4])"
      ],
      "metadata": {
        "id": "TrZvF22Cx8Og"
      },
      "execution_count": null,
      "outputs": []
    },
    {
      "cell_type": "code",
      "source": [
        "print(arr+arr)\n",
        "print(arr*arr)\n",
        "print(arr/arr)\n",
        "print(arr**arr)\n",
        "print(np.sqrt(arr))"
      ],
      "metadata": {
        "colab": {
          "base_uri": "https://localhost:8080/"
        },
        "id": "Sbf6rDAVybaM",
        "outputId": "f1313286-0279-4212-a7a8-0a81e5d4e44d"
      },
      "execution_count": null,
      "outputs": [
        {
          "output_type": "stream",
          "name": "stdout",
          "text": [
            "[2 4 6 8]\n",
            "[ 1  4  9 16]\n",
            "[1. 1. 1. 1.]\n",
            "[  1   4  27 256]\n",
            "[1.         1.41421356 1.73205081 2.        ]\n"
          ]
        }
      ]
    },
    {
      "cell_type": "code",
      "source": [
        "import numpy as np\n",
        "arr=np.array([1,2,3,4])\n",
        "print(np.sum(arr))\n",
        "print(np.mean(arr))\n",
        "print(np.median(arr))"
      ],
      "metadata": {
        "colab": {
          "base_uri": "https://localhost:8080/"
        },
        "id": "AuK_Xt_6cFmg",
        "outputId": "f969cce6-859c-4540-ff58-62fa4d80d0d6"
      },
      "execution_count": null,
      "outputs": [
        {
          "output_type": "stream",
          "name": "stdout",
          "text": [
            "10\n",
            "2.5\n",
            "2.5\n"
          ]
        }
      ]
    },
    {
      "cell_type": "code",
      "source": [
        "arr=np.array([1,2,3,4,5])\n",
        "print(np.mean(arr))\n",
        "print(np.var(arr))\n",
        "print(np.std(arr))"
      ],
      "metadata": {
        "colab": {
          "base_uri": "https://localhost:8080/"
        },
        "id": "EqNkxTZpchj4",
        "outputId": "c7a188d3-6a2a-4a31-998e-90fe90092cd6"
      },
      "execution_count": null,
      "outputs": [
        {
          "output_type": "stream",
          "name": "stdout",
          "text": [
            "3.0\n",
            "2.0\n",
            "1.4142135623730951\n"
          ]
        }
      ]
    },
    {
      "cell_type": "code",
      "source": [
        "arr=np.array([1,2,3,4,5])\n",
        "print(np.min(arr))\n",
        "print(np.max(arr))"
      ],
      "metadata": {
        "colab": {
          "base_uri": "https://localhost:8080/"
        },
        "id": "SzO_etyldwQA",
        "outputId": "8c2f565b-b216-406a-a20c-af058fc05ff9"
      },
      "execution_count": null,
      "outputs": [
        {
          "output_type": "stream",
          "name": "stdout",
          "text": [
            "1\n",
            "5\n"
          ]
        }
      ]
    },
    {
      "cell_type": "code",
      "source": [
        "arr=np.array([1,2,3,4,5,9,8])\n",
        "print(np.cumsum(arr))\n",
        "print(np.cumprod(arr))"
      ],
      "metadata": {
        "colab": {
          "base_uri": "https://localhost:8080/"
        },
        "id": "_XG_4iMeeNdH",
        "outputId": "33035019-8580-4216-aed5-8d067a8e74b0"
      },
      "execution_count": null,
      "outputs": [
        {
          "output_type": "stream",
          "name": "stdout",
          "text": [
            "[ 1  3  6 10 15 24 32]\n",
            "[   1    2    6   24  120 1080 8640]\n"
          ]
        }
      ]
    },
    {
      "cell_type": "code",
      "source": [
        "arr=np.array([10,20,30,40,50])\n",
        "print(arr%20==0)\n",
        "print(arr[arr<=30])"
      ],
      "metadata": {
        "colab": {
          "base_uri": "https://localhost:8080/"
        },
        "id": "zo9gsO5jeZwH",
        "outputId": "5d1d86ff-9027-4a99-cefe-1b7ae4754678"
      },
      "execution_count": null,
      "outputs": [
        {
          "output_type": "stream",
          "name": "stdout",
          "text": [
            "[False  True False  True False]\n",
            "[10 20 30]\n"
          ]
        }
      ]
    },
    {
      "cell_type": "code",
      "source": [
        "arr=np.array([10,20,30,40,50])\n",
        "print(arr%20==0)\n",
        "print(arr[arr%20==0])"
      ],
      "metadata": {
        "colab": {
          "base_uri": "https://localhost:8080/"
        },
        "id": "p_CIBsYUfOt_",
        "outputId": "225e3e1b-81f5-456c-c633-934527f556be"
      },
      "execution_count": null,
      "outputs": [
        {
          "output_type": "stream",
          "name": "stdout",
          "text": [
            "[False  True False  True False]\n",
            "[20 40]\n"
          ]
        }
      ]
    },
    {
      "cell_type": "code",
      "source": [
        "arr=np.array([1088,24450,308,489870,850])\n",
        "sorted_arr=np.sort(arr)\n",
        "print(sorted_arr)"
      ],
      "metadata": {
        "colab": {
          "base_uri": "https://localhost:8080/"
        },
        "id": "IHcl32XqfT4v",
        "outputId": "57342709-3afe-4137-b811-42de2ebd09f4"
      },
      "execution_count": null,
      "outputs": [
        {
          "output_type": "stream",
          "name": "stdout",
          "text": [
            "[   308    850   1088  24450 489870]\n"
          ]
        }
      ]
    },
    {
      "cell_type": "code",
      "source": [
        "arr=np.array([1,0,8,0,8])\n",
        "unique_vals=np.unique(arr)\n",
        "print(unique_vals)"
      ],
      "metadata": {
        "colab": {
          "base_uri": "https://localhost:8080/"
        },
        "id": "ON0GLtBTftGI",
        "outputId": "67581a2f-0450-4c8e-d792-48bf17366e87"
      },
      "execution_count": null,
      "outputs": [
        {
          "output_type": "stream",
          "name": "stdout",
          "text": [
            "[0 1 8]\n"
          ]
        }
      ]
    },
    {
      "cell_type": "code",
      "source": [
        "# [view]deep copy for original value  chnages\n",
        "arr=np.array([100,500,900,800])\n",
        "view_arr=arr.view()\n",
        "view_arr[0]=1000\n",
        "print(arr,view_arr)"
      ],
      "metadata": {
        "colab": {
          "base_uri": "https://localhost:8080/"
        },
        "id": "oXPRIBVGf66f",
        "outputId": "ecfa96ce-573d-4652-dfc3-a2c7fa02a202"
      },
      "execution_count": null,
      "outputs": [
        {
          "output_type": "stream",
          "name": "stdout",
          "text": [
            "[1000  500  900  800] [1000  500  900  800]\n"
          ]
        }
      ]
    },
    {
      "cell_type": "code",
      "source": [
        "# shallow  [copy] for original value does not chnage\n",
        "arr=np.array([100,500,900,800])\n",
        "view_copy=arr.copy()\n",
        "view_copy[0]=1000\n",
        "print(arr,view_copy)"
      ],
      "metadata": {
        "colab": {
          "base_uri": "https://localhost:8080/"
        },
        "id": "nSv3LxuAgq9A",
        "outputId": "a4ba8e65-5759-473b-e8db-2abd5f67ce28"
      },
      "execution_count": null,
      "outputs": [
        {
          "output_type": "stream",
          "name": "stdout",
          "text": [
            "[100 500 900 800] [1000  500  900  800]\n"
          ]
        }
      ]
    },
    {
      "cell_type": "code",
      "source": [
        "# martix multiplication\n",
        "a=np.array([[1,5],[5,2]])\n",
        "b=np.array([[1,5],[5,8]])\n",
        "print(np.dot(a,b))"
      ],
      "metadata": {
        "colab": {
          "base_uri": "https://localhost:8080/"
        },
        "id": "Ztlw7P9GhKGY",
        "outputId": "d608750f-96da-4af3-db86-ad946fc9c2c4"
      },
      "execution_count": null,
      "outputs": [
        {
          "output_type": "stream",
          "name": "stdout",
          "text": [
            "[[26 45]\n",
            " [15 41]]\n"
          ]
        }
      ]
    },
    {
      "cell_type": "code",
      "source": [
        "# def of matrix\n",
        "print(np.linalg.det(a))"
      ],
      "metadata": {
        "colab": {
          "base_uri": "https://localhost:8080/"
        },
        "id": "YYbTHZKshhCg",
        "outputId": "56c2b2de-34b4-46ed-8527-41de1fe1d192"
      },
      "execution_count": null,
      "outputs": [
        {
          "output_type": "stream",
          "name": "stdout",
          "text": [
            "-23.0\n"
          ]
        }
      ]
    },
    {
      "cell_type": "code",
      "source": [
        "# inverse of a matrix\n",
        "print(np.linalg.inv(a))"
      ],
      "metadata": {
        "colab": {
          "base_uri": "https://localhost:8080/"
        },
        "id": "ktq8KuZch10w",
        "outputId": "d6fb9ad8-905c-4c82-9fdf-66e87df1d0db"
      },
      "execution_count": null,
      "outputs": [
        {
          "output_type": "stream",
          "name": "stdout",
          "text": [
            "[[-0.08695652  0.2173913 ]\n",
            " [ 0.2173913  -0.04347826]]\n"
          ]
        }
      ]
    },
    {
      "cell_type": "code",
      "source": [
        "# eigenvalues and vectors\n",
        "eigenvalues,eigenvector=np.linalg.eig(a)\n",
        "print(eigenvalues)\n",
        "print(eigenvector)\n"
      ],
      "metadata": {
        "colab": {
          "base_uri": "https://localhost:8080/"
        },
        "id": "ocq4K9-KicSY",
        "outputId": "723c40a8-cb0d-42e9-beaf-0f5b7b95a223"
      },
      "execution_count": null,
      "outputs": [
        {
          "output_type": "stream",
          "name": "stdout",
          "text": [
            "[-3.52493781  6.52493781]\n",
            "[[-0.74145253 -0.67100532]\n",
            " [ 0.67100532 -0.74145253]]\n"
          ]
        }
      ]
    },
    {
      "cell_type": "code",
      "source": [
        "# linear algebra\n",
        "c=np.array([18,5])\n",
        "solution=np.linalg.solve(a,c)\n",
        "print(solution)\n"
      ],
      "metadata": {
        "colab": {
          "base_uri": "https://localhost:8080/"
        },
        "id": "Kgn18WHMi1sA",
        "outputId": "a1631f15-71ff-4e25-dc73-32966e26e5b4"
      },
      "execution_count": null,
      "outputs": [
        {
          "output_type": "stream",
          "name": "stdout",
          "text": [
            "[-0.47826087  3.69565217]\n"
          ]
        }
      ]
    },
    {
      "cell_type": "code",
      "source": [
        "a=np.array([[1,5],[5,2]])\n",
        "b=np.array([[1,5],[5,8]])\n",
        "vertical_stack=np.vstack((a,b))\n",
        "horizontal_stack=np.hstack((a,b))\n",
        "print(vertical_stack)\n",
        "print(horizontal_stack)"
      ],
      "metadata": {
        "colab": {
          "base_uri": "https://localhost:8080/"
        },
        "id": "d1XxmgoqjchI",
        "outputId": "b57ea901-ddd6-447f-ba68-ae30bd13df39"
      },
      "execution_count": null,
      "outputs": [
        {
          "output_type": "stream",
          "name": "stdout",
          "text": [
            "[[1 5]\n",
            " [5 2]\n",
            " [1 5]\n",
            " [5 8]]\n",
            "[[1 5 1 5]\n",
            " [5 2 5 8]]\n"
          ]
        }
      ]
    },
    {
      "cell_type": "code",
      "source": [
        "split_arr=np.split(np.array([1,2,3,4,5]),5)\n",
        "print(split_arr)"
      ],
      "metadata": {
        "colab": {
          "base_uri": "https://localhost:8080/"
        },
        "id": "GSVu5VLLkIaQ",
        "outputId": "a11324b5-4e22-41c4-e4b8-49519c4d655b"
      },
      "execution_count": null,
      "outputs": [
        {
          "output_type": "stream",
          "name": "stdout",
          "text": [
            "[array([1]), array([2]), array([3]), array([4]), array([5])]\n"
          ]
        }
      ]
    },
    {
      "cell_type": "code",
      "source": [],
      "metadata": {
        "id": "ept5Cd9pVNut"
      },
      "execution_count": null,
      "outputs": []
    },
    {
      "cell_type": "markdown",
      "source": [
        "matlot.lib"
      ],
      "metadata": {
        "id": "Imfv1HprXEF9"
      }
    },
    {
      "cell_type": "code",
      "source": [
        "import matplotlib.pyplot as plt"
      ],
      "metadata": {
        "id": "OZbJYZJ9XO8-"
      },
      "execution_count": 1,
      "outputs": []
    },
    {
      "cell_type": "code",
      "source": [
        "hours=[1,3,5,8,2,4]\n",
        "visitors=[90,78,56,43,55,23]"
      ],
      "metadata": {
        "id": "BgCvKNldZ6r2"
      },
      "execution_count": 2,
      "outputs": []
    },
    {
      "cell_type": "code",
      "source": [
        "plt.plot(hours,visitors,\n",
        "         color=\"lightgreen\",\n",
        "         marker=\"*\",\n",
        "         linewidth=2,\n",
        "         linestyle=\"-\",\n",
        "         label=\"visitors\")\n",
        "plt.title(\"website visitors per hour\")\n",
        "plt.xlabel(\"hour of day\")\n",
        "plt.ylabel(\"no of visitors\")\n",
        "plt.legend()\n",
        "plt.grid(True)\n",
        "plt.show()"
      ],
      "metadata": {
        "colab": {
          "base_uri": "https://localhost:8080/",
          "height": 472
        },
        "id": "Rr6Mmyd_aFGa",
        "outputId": "0e377f70-0fdb-4009-d5b5-5cacce806c53"
      },
      "execution_count": 8,
      "outputs": [
        {
          "output_type": "display_data",
          "data": {
            "text/plain": [
              "<Figure size 640x480 with 1 Axes>"
            ],
            "image/png": "[encoded data removed]"
          },
          "metadata": {}
        }
      ]
    },
    {
      "cell_type": "code",
      "source": [
        "import matplotlib.pyplot as plt"
      ],
      "metadata": {
        "id": "DbRDsM2Hb2Hk"
      },
      "execution_count": 9,
      "outputs": []
    },
    {
      "cell_type": "code",
      "source": [
        "products=[\"car\",\"bike\",\"cycle\",\"scooter\"]\n",
        "sales=[67,89,78,56]\n",
        "plt.bar(products,sales,color=\"lightgreen\",edgecolor=\"red\",alpha=1)\n",
        "plt.title(\"product sales comparsion\")\n",
        "plt.xlabel(\"products\")\n",
        "plt.ylabel(\"sales\")\n",
        "plt.show()\n"
      ],
      "metadata": {
        "colab": {
          "base_uri": "https://localhost:8080/",
          "height": 472
        },
        "id": "nBRCZUQ6cojS",
        "outputId": "75e7fd8f-2876-45a8-f335-1663a4240f3e"
      },
      "execution_count": 11,
      "outputs": [
        {
          "output_type": "display_data",
          "data": {
            "text/plain": [
              "<Figure size 640x480 with 1 Axes>"
            ],
            "image/png": "[encoded data removed]"
          },
          "metadata": {}
        }
      ]
    },
    {
      "cell_type": "code",
      "source": [
        "import matplotlib.pyplot as plt"
      ],
      "metadata": {
        "id": "Be-pjiYGfahE"
      },
      "execution_count": 12,
      "outputs": []
    },
    {
      "cell_type": "code",
      "source": [
        "marks=[76,98,45,35,50,67,57,87,90,86,99]\n",
        "plt.hist(marks,bins=15,color=\"lightgreen\",edgecolor=\"black\",alpha=1)\n",
        "plt.grid(True)\n",
        "plt.title(\"marks of the student\")\n",
        "plt.xlabel(\"marks range\")\n",
        "plt.ylabel(\"no of students\")\n",
        "plt.show()"
      ],
      "metadata": {
        "colab": {
          "base_uri": "https://localhost:8080/",
          "height": 472
        },
        "id": "Kqa2stdAfdPR",
        "outputId": "88d362cd-9bb4-4251-cd84-83367d478caf"
      },
      "execution_count": 30,
      "outputs": [
        {
          "output_type": "display_data",
          "data": {
            "text/plain": [
              "<Figure size 640x480 with 1 Axes>"
            ],
            "image/png": "[encoded data removed]"
          },
          "metadata": {}
        }
      ]
    },
    {
      "cell_type": "code",
      "source": [
        "# scatter plot\n",
        "import matplotlib.pyplot as plt"
      ],
      "metadata": {
        "id": "G08B_lpYg1Os"
      },
      "execution_count": 31,
      "outputs": []
    },
    {
      "cell_type": "code",
      "source": [
        "ad_spend=[2,4,6,8,10,3,5,6]\n",
        "sales=[20,40,30,80,10,20,30,40]\n",
        "sizes=[200,300,400,500,600,700,800,900]\n",
        "colors=sales\n",
        "plt.scatter(ad_spend,sales,\n",
        "s=sizes,\n",
        "c=colors,\n",
        "cmap='viridis',\n",
        "alpha=1,\n",
        "edgecolors=\"black\",\n",
        "linewidths=1.2)\n",
        "\n",
        "plt.grid(True)\n",
        "plt.title(\"ads spend by the company\")\n",
        "plt.xlabel(\"sizes\")\n",
        "plt.ylabel(\"sales of ads\")\n",
        "plt.show()"
      ],
      "metadata": {
        "colab": {
          "base_uri": "https://localhost:8080/",
          "height": 624
        },
        "id": "1ix38qOfiUdN",
        "outputId": "8c120473-303a-4571-faae-6e43b67d9d39"
      },
      "execution_count": 36,
      "outputs": [
        {
          "output_type": "error",
          "ename": "NameError",
          "evalue": "name 'Bold' is not defined",
          "traceback": [
            "\u001b[0;31m---------------------------------------------------------------------------\u001b[0m",
            "\u001b[0;31mNameError\u001b[0m                                 Traceback (most recent call last)",
            "\u001b[0;32m/tmp/ipython-input-2462083752.py\u001b[0m in \u001b[0;36m<cell line: 0>\u001b[0;34m()\u001b[0m\n\u001b[1;32m     11\u001b[0m linewidths=1.2)            \n\u001b[1;32m     12\u001b[0m \u001b[0mplt\u001b[0m\u001b[0;34m.\u001b[0m\u001b[0mgrid\u001b[0m\u001b[0;34m(\u001b[0m\u001b[0;32mTrue\u001b[0m\u001b[0;34m)\u001b[0m\u001b[0;34m\u001b[0m\u001b[0;34m\u001b[0m\u001b[0m\n\u001b[0;32m---> 13\u001b[0;31m \u001b[0mplt\u001b[0m\u001b[0;34m.\u001b[0m\u001b[0mtitle\u001b[0m\u001b[0;34m(\u001b[0m\u001b[0;34m\"ads spend by the company\"\u001b[0m\u001b[0;34m,\u001b[0m\u001b[0mBold\u001b[0m\u001b[0;34m)\u001b[0m\u001b[0;34m\u001b[0m\u001b[0;34m\u001b[0m\u001b[0m\n\u001b[0m\u001b[1;32m     14\u001b[0m \u001b[0mplt\u001b[0m\u001b[0;34m.\u001b[0m\u001b[0mxlabel\u001b[0m\u001b[0;34m(\u001b[0m\u001b[0;34m\"sizes\"\u001b[0m\u001b[0;34m)\u001b[0m\u001b[0;34m\u001b[0m\u001b[0;34m\u001b[0m\u001b[0m\n\u001b[1;32m     15\u001b[0m \u001b[0mplt\u001b[0m\u001b[0;34m.\u001b[0m\u001b[0mylabel\u001b[0m\u001b[0;34m(\u001b[0m\u001b[0;34m\"sales of ads\"\u001b[0m\u001b[0;34m)\u001b[0m\u001b[0;34m\u001b[0m\u001b[0;34m\u001b[0m\u001b[0m\n",
            "\u001b[0;31mNameError\u001b[0m: name 'Bold' is not defined"
          ]
        },
        {
          "output_type": "display_data",
          "data": {
            "text/plain": [
              "<Figure size 640x480 with 1 Axes>"
            ],
            "image/png": "[encoded data removed]"
          },
          "metadata": {}
        }
      ]
    },
    {
      "cell_type": "code",
      "source": [
        "#Piechart\n",
        "brands=[\"Apple\",\"Samsung\",\"IQOO\",\"Oppo\",\"Others\"]\n",
        "market_share=[30,25,40,10,15]\n",
        "plt.pie(market_share,\n",
        "        labels=brands,\n",
        "        autopct=\"%1.1f%%\",\n",
        "        startangle=0,\n",
        "        colors=[\"Gold\",\"Skyblue\",\"Green\",\"Violet\",\"Yellow\"],\n",
        "        explode=[0,0,0,0,0.2],\n",
        "        shadow=True)\n",
        "plt.title(\"Mobile Market Share 2025\")\n",
        "plt.show()\n",
        ""
      ],
      "metadata": {
        "colab": {
          "base_uri": "https://localhost:8080/",
          "height": 428
        },
        "id": "XEfzebkHlqHl",
        "outputId": "cc0a6b76-c178-4900-ed9d-d45257cd4a19"
      },
      "execution_count": 39,
      "outputs": [
        {
          "output_type": "display_data",
          "data": {
            "text/plain": [
              "<Figure size 640x480 with 1 Axes>"
            ],
            "image/png": "[encoded data removed]"
          },
          "metadata": {}
        }
      ]
    },
    {
      "cell_type": "code",
      "source": [
        "#Boxplot\n",
        "scores=[\n",
        "    [78,85,90,92,88,76,95,9],\n",
        "    [65,78,70,80,85,75,73,68],\n",
        "    [90,92,94,96,88,91,89,93],\n",
        "    [62,60,61,90,65,63,67,61],\n",
        "    [70,85,9,50,92,91,100,89]\n",
        "]\n",
        "plt.boxplot(scores,patch_artist=True,notch=False,vert=True,labels=[\"A\",\"B\",\"C\",\"D\",\"E\"])\n",
        "plt.title(\"Exam Scores Distribution Across Classes\")\n",
        "plt.xlabel(\"Classes\")\n",
        "plt.ylabel(\"Scores\")\n",
        "plt.grid(True,linestyle=\"--\",alpha=0.7)\n",
        "plt.show()"
      ],
      "metadata": {
        "colab": {
          "base_uri": "https://localhost:8080/",
          "height": 527
        },
        "id": "BkUIIBshrp35",
        "outputId": "0ad4f554-c8a5-4f15-bc1c-16d099c1d8ac"
      },
      "execution_count": 38,
      "outputs": [
        {
          "output_type": "stream",
          "name": "stderr",
          "text": [
            "/tmp/ipython-input-4219388286.py:9: MatplotlibDeprecationWarning: The 'labels' parameter of boxplot() has been renamed 'tick_labels' since Matplotlib 3.9; support for the old name will be dropped in 3.11.\n",
            "  plt.boxplot(scores,patch_artist=True,notch=False,vert=True,labels=[\"A\",\"B\",\"C\",\"D\",\"E\"])\n"
          ]
        },
        {
          "output_type": "display_data",
          "data": {
            "text/plain": [
              "<Figure size 640x480 with 1 Axes>"
            ],
            "image/png": "[encoded data removed]"
          },
          "metadata": {}
        }
      ]
    }
  ],
  "metadata": {
    "colab": {
      "provenance": [],
      "include_colab_link": true
    },
    "kernelspec": {
      "display_name": "Python 3",
      "name": "python3"
    }
  },
  "nbformat": 4,
  "nbformat_minor": 0
}