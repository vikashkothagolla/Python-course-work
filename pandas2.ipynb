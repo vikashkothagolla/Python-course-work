{
  "nbformat": 4,
  "nbformat_minor": 0,
  "metadata": {
    "colab": {
      "provenance": [],
      "authorship_tag": "ABX9TyM4HXrK/vEihk5j0wZ+uqBs",
      "include_colab_link": true
    },
    "kernelspec": {
      "name": "python3",
      "display_name": "Python 3"
    },
    "language_info": {
      "name": "python"
    }
  },
  "cells": [
    {
      "cell_type": "markdown",
      "metadata": {
        "id": "view-in-github",
        "colab_type": "text"
      },
      "source": [
        "<a href=\"https://colab.research.google.com/github/vikashkothagolla/Python-course-work/blob/main/pandas2.ipynb\" target=\"_parent\"><img src=\"https://colab.research.google.com/assets/colab-badge.svg\" alt=\"Open In Colab\"/></a>"
      ]
    },
    {
      "cell_type": "code",
      "execution_count": 1,
      "metadata": {
        "id": "a9n38uGoCmXs"
      },
      "outputs": [],
      "source": [
        "import  pandas as pd"
      ]
    },
    {
      "cell_type": "code",
      "source": [
        "data={\n",
        "    \"purchase date\":[\"2024-09-06\",\"2024-08-06\",\"2024-09-08\",\"2025-09-06\"],\n",
        "    \"product\":[\"laptop\",\"mouse\",\"keyboard\",\"joystick\"],\n",
        "    \"price\":[12200,900,999,8888],\n",
        "    \"quantity\":[7,2,3,4]\n",
        "}\n",
        "df_sales=pd.DataFrame(data)\n",
        "print(df_sales)"
      ],
      "metadata": {
        "colab": {
          "base_uri": "https://localhost:8080/"
        },
        "id": "bYBDY81lFag5",
        "outputId": "0eb82e14-56ac-44a8-884d-929acf44ae42"
      },
      "execution_count": 5,
      "outputs": [
        {
          "output_type": "stream",
          "name": "stdout",
          "text": [
            "  purchase date   product  price  quantity\n",
            "0    2024-09-06    laptop  12200         7\n",
            "1    2024-08-06     mouse    900         2\n",
            "2    2024-09-08  keyboard    999         3\n",
            "3    2025-09-06  joystick   8888         4\n"
          ]
        }
      ]
    },
    {
      "cell_type": "code",
      "source": [
        "df_sales[\"purchase date\"]=pd.to_datetime(df_sales[\"purchase date\"])\n",
        "df_sales.set_index(\"purchase date\",inplace=True)\n",
        "daily_avg=df_sales.resample(\"D\").mean(numeric_only=True)\n",
        "print(\"\\n--- Daily Average\")\n",
        "print(daily_avg.head(15))"
      ],
      "metadata": {
        "colab": {
          "base_uri": "https://localhost:8080/"
        },
        "id": "a3Z0Z94sI8yl",
        "outputId": "6320b329-6ac9-4462-f534-cca94d4f5751"
      },
      "execution_count": 6,
      "outputs": [
        {
          "output_type": "stream",
          "name": "stdout",
          "text": [
            "\n",
            "--- Daily Average\n",
            "               price  quantity\n",
            "purchase date                 \n",
            "2024-08-06     900.0       2.0\n",
            "2024-08-07       NaN       NaN\n",
            "2024-08-08       NaN       NaN\n",
            "2024-08-09       NaN       NaN\n",
            "2024-08-10       NaN       NaN\n",
            "2024-08-11       NaN       NaN\n",
            "2024-08-12       NaN       NaN\n",
            "2024-08-13       NaN       NaN\n",
            "2024-08-14       NaN       NaN\n",
            "2024-08-15       NaN       NaN\n",
            "2024-08-16       NaN       NaN\n",
            "2024-08-17       NaN       NaN\n",
            "2024-08-18       NaN       NaN\n",
            "2024-08-19       NaN       NaN\n",
            "2024-08-20       NaN       NaN\n"
          ]
        }
      ]
    },
    {
      "cell_type": "code",
      "source": [
        "weekly_avg=df_sales.resample(\"W\").mean(numeric_only=True)\n",
        "print(\"\\n--- Weekly Average\")\n",
        "print(weekly_avg)"
      ],
      "metadata": {
        "colab": {
          "base_uri": "https://localhost:8080/"
        },
        "id": "kRGGAn4fJxn2",
        "outputId": "ac4e81f4-57b5-4be3-c21b-f8936b6d718c"
      },
      "execution_count": 7,
      "outputs": [
        {
          "output_type": "stream",
          "name": "stdout",
          "text": [
            "\n",
            "--- Weekly Average\n",
            "                price  quantity\n",
            "purchase date                  \n",
            "2024-08-11      900.0       2.0\n",
            "2024-08-18        NaN       NaN\n",
            "2024-08-25        NaN       NaN\n",
            "2024-09-01        NaN       NaN\n",
            "2024-09-08     6599.5       5.0\n",
            "2024-09-15        NaN       NaN\n",
            "2024-09-22        NaN       NaN\n",
            "2024-09-29        NaN       NaN\n",
            "2024-10-06        NaN       NaN\n",
            "2024-10-13        NaN       NaN\n",
            "2024-10-20        NaN       NaN\n",
            "2024-10-27        NaN       NaN\n",
            "2024-11-03        NaN       NaN\n",
            "2024-11-10        NaN       NaN\n",
            "2024-11-17        NaN       NaN\n",
            "2024-11-24        NaN       NaN\n",
            "2024-12-01        NaN       NaN\n",
            "2024-12-08        NaN       NaN\n",
            "2024-12-15        NaN       NaN\n",
            "2024-12-22        NaN       NaN\n",
            "2024-12-29        NaN       NaN\n",
            "2025-01-05        NaN       NaN\n",
            "2025-01-12        NaN       NaN\n",
            "2025-01-19        NaN       NaN\n",
            "2025-01-26        NaN       NaN\n",
            "2025-02-02        NaN       NaN\n",
            "2025-02-09        NaN       NaN\n",
            "2025-02-16        NaN       NaN\n",
            "2025-02-23        NaN       NaN\n",
            "2025-03-02        NaN       NaN\n",
            "2025-03-09        NaN       NaN\n",
            "2025-03-16        NaN       NaN\n",
            "2025-03-23        NaN       NaN\n",
            "2025-03-30        NaN       NaN\n",
            "2025-04-06        NaN       NaN\n",
            "2025-04-13        NaN       NaN\n",
            "2025-04-20        NaN       NaN\n",
            "2025-04-27        NaN       NaN\n",
            "2025-05-04        NaN       NaN\n",
            "2025-05-11        NaN       NaN\n",
            "2025-05-18        NaN       NaN\n",
            "2025-05-25        NaN       NaN\n",
            "2025-06-01        NaN       NaN\n",
            "2025-06-08        NaN       NaN\n",
            "2025-06-15        NaN       NaN\n",
            "2025-06-22        NaN       NaN\n",
            "2025-06-29        NaN       NaN\n",
            "2025-07-06        NaN       NaN\n",
            "2025-07-13        NaN       NaN\n",
            "2025-07-20        NaN       NaN\n",
            "2025-07-27        NaN       NaN\n",
            "2025-08-03        NaN       NaN\n",
            "2025-08-10        NaN       NaN\n",
            "2025-08-17        NaN       NaN\n",
            "2025-08-24        NaN       NaN\n",
            "2025-08-31        NaN       NaN\n",
            "2025-09-07     8888.0       4.0\n"
          ]
        }
      ]
    },
    {
      "cell_type": "code",
      "source": [
        "monthly_avg=df_sales.resample(\"M\").mean(numeric_only=True)\n",
        "print(\"\\n--- Monthly Average\")\n",
        "print(monthly_avg)"
      ],
      "metadata": {
        "colab": {
          "base_uri": "https://localhost:8080/"
        },
        "id": "xV6Z00FjKBXc",
        "outputId": "533f357d-49ea-41bb-bf8f-5275397e163a"
      },
      "execution_count": 8,
      "outputs": [
        {
          "output_type": "stream",
          "name": "stdout",
          "text": [
            "\n",
            "--- Monthly Average\n",
            "                price  quantity\n",
            "purchase date                  \n",
            "2024-08-31      900.0       2.0\n",
            "2024-09-30     6599.5       5.0\n",
            "2024-10-31        NaN       NaN\n",
            "2024-11-30        NaN       NaN\n",
            "2024-12-31        NaN       NaN\n",
            "2025-01-31        NaN       NaN\n",
            "2025-02-28        NaN       NaN\n",
            "2025-03-31        NaN       NaN\n",
            "2025-04-30        NaN       NaN\n",
            "2025-05-31        NaN       NaN\n",
            "2025-06-30        NaN       NaN\n",
            "2025-07-31        NaN       NaN\n",
            "2025-08-31        NaN       NaN\n",
            "2025-09-30     8888.0       4.0\n"
          ]
        },
        {
          "output_type": "stream",
          "name": "stderr",
          "text": [
            "/tmp/ipython-input-2572000644.py:1: FutureWarning: 'M' is deprecated and will be removed in a future version, please use 'ME' instead.\n",
            "  monthly_avg=df_sales.resample(\"M\").mean(numeric_only=True)\n"
          ]
        }
      ]
    },
    {
      "cell_type": "code",
      "source": [
        "quaterly_avg=df_sales.resample(\"Q\").mean(numeric_only=True)\n",
        "print(\"\\n--- Quaterly Average\")\n",
        "print(quaterly_avg)"
      ],
      "metadata": {
        "colab": {
          "base_uri": "https://localhost:8080/"
        },
        "id": "EPGiRwpEKNW1",
        "outputId": "89354d92-3643-4038-93eb-1b2942158fb4"
      },
      "execution_count": 9,
      "outputs": [
        {
          "output_type": "stream",
          "name": "stdout",
          "text": [
            "\n",
            "--- Quaterly Average\n",
            "                     price  quantity\n",
            "purchase date                       \n",
            "2024-09-30     4699.666667       4.0\n",
            "2024-12-31             NaN       NaN\n",
            "2025-03-31             NaN       NaN\n",
            "2025-06-30             NaN       NaN\n",
            "2025-09-30     8888.000000       4.0\n"
          ]
        },
        {
          "output_type": "stream",
          "name": "stderr",
          "text": [
            "/tmp/ipython-input-1035419146.py:1: FutureWarning: 'Q' is deprecated and will be removed in a future version, please use 'QE' instead.\n",
            "  quaterly_avg=df_sales.resample(\"Q\").mean(numeric_only=True)\n"
          ]
        }
      ]
    },
    {
      "cell_type": "code",
      "source": [
        "yearly_avg=df_sales.resample(\"Y\").mean(numeric_only=True)\n",
        "print(\"\\n--- Yearly Average\")\n",
        "print(yearly_avg)"
      ],
      "metadata": {
        "colab": {
          "base_uri": "https://localhost:8080/"
        },
        "id": "Yv1RPNFaKUKX",
        "outputId": "6d6cfdcb-85db-4873-8709-97019d690852"
      },
      "execution_count": 12,
      "outputs": [
        {
          "output_type": "stream",
          "name": "stdout",
          "text": [
            "\n",
            "--- Yearly Average\n",
            "                     price  quantity\n",
            "purchase date                       \n",
            "2024-12-31     4699.666667       4.0\n",
            "2025-12-31     8888.000000       4.0\n"
          ]
        },
        {
          "output_type": "stream",
          "name": "stderr",
          "text": [
            "/tmp/ipython-input-1223462591.py:1: FutureWarning: 'Y' is deprecated and will be removed in a future version, please use 'YE' instead.\n",
            "  yearly_avg=df_sales.resample(\"Y\").mean(numeric_only=True)\n"
          ]
        }
      ]
    },
    {
      "cell_type": "code",
      "source": [
        "import pandas as pd\n",
        "import numpy as np\n",
        "\n",
        "data = {\n",
        "    \"A\": [1, 2, np.nan, 4, 5],\n",
        "    \"B\": [np.nan, 2, 3, np.nan, 9],\n",
        "    \"C\": [4, 6, np.nan, 8, 3]\n",
        "}\n",
        "\n",
        "df=pd.DataFrame(data)\n",
        "print(\"Original DataFrame is missing values:\")\n",
        "print(df)"
      ],
      "metadata": {
        "colab": {
          "base_uri": "https://localhost:8080/"
        },
        "id": "GdH0grt1LIDc",
        "outputId": "2d547e17-10e3-4843-f48b-a57d9f567520"
      },
      "execution_count": 21,
      "outputs": [
        {
          "output_type": "stream",
          "name": "stdout",
          "text": [
            "Original DataFrame is missing values:\n",
            "     A    B    C\n",
            "0  1.0  NaN  4.0\n",
            "1  2.0  2.0  6.0\n",
            "2  NaN  3.0  NaN\n",
            "3  4.0  NaN  8.0\n",
            "4  5.0  9.0  3.0\n"
          ]
        }
      ]
    },
    {
      "cell_type": "code",
      "source": [
        "df_interpolate=df.interpolate()\n",
        "print(\"\\nDataFrame after filling NaN values using interpolation:\")\n",
        "print(df_interpolate)"
      ],
      "metadata": {
        "colab": {
          "base_uri": "https://localhost:8080/"
        },
        "id": "8VNEa4VYNmG1",
        "outputId": "8e24a8d4-2770-4a65-a161-fbed61e555e0"
      },
      "execution_count": 22,
      "outputs": [
        {
          "output_type": "stream",
          "name": "stdout",
          "text": [
            "\n",
            "DataFrame after filling NaN values using interpolation:\n",
            "     A    B    C\n",
            "0  1.0  NaN  4.0\n",
            "1  2.0  2.0  6.0\n",
            "2  3.0  3.0  7.0\n",
            "3  4.0  6.0  8.0\n",
            "4  5.0  9.0  3.0\n"
          ]
        }
      ]
    },
    {
      "cell_type": "code",
      "source": [
        "df_dropna=df.dropna()\n",
        "print(\"\\nDataFrame after dropping row with NaN values:\")\n",
        "print(df_dropna)"
      ],
      "metadata": {
        "colab": {
          "base_uri": "https://localhost:8080/"
        },
        "id": "Nzxw2oYCN6T0",
        "outputId": "0c2a6f2a-b796-40cb-a959-b3f616202be9"
      },
      "execution_count": 23,
      "outputs": [
        {
          "output_type": "stream",
          "name": "stdout",
          "text": [
            "\n",
            "DataFrame after dropping row with NaN values:\n",
            "     A    B    C\n",
            "1  2.0  2.0  6.0\n",
            "4  5.0  9.0  3.0\n"
          ]
        }
      ]
    },
    {
      "cell_type": "code",
      "source": [
        "df_fillna=df.fillna(0)\n",
        "print(\"\\nDataFrame after filling  NaN values with 0:\")\n",
        "print(df_fillna)"
      ],
      "metadata": {
        "colab": {
          "base_uri": "https://localhost:8080/"
        },
        "id": "0gPy6hs0OG30",
        "outputId": "192d82d0-791f-40fc-c461-0591353019f4"
      },
      "execution_count": 25,
      "outputs": [
        {
          "output_type": "stream",
          "name": "stdout",
          "text": [
            "\n",
            "DataFrame after filling  NaN values with 0:\n",
            "     A    B    C\n",
            "0  1.0  0.0  4.0\n",
            "1  2.0  2.0  6.0\n",
            "2  0.0  3.0  0.0\n",
            "3  4.0  0.0  8.0\n",
            "4  5.0  9.0  3.0\n"
          ]
        }
      ]
    },
    {
      "cell_type": "code",
      "source": [
        "from google.colab import files\n",
        "uploaded=files.upload()"
      ],
      "metadata": {
        "colab": {
          "base_uri": "https://localhost:8080/",
          "height": 73
        },
        "id": "1rb_2DYJOxhU",
        "outputId": "687bcc43-c14e-4e03-e856-acd83d01424a"
      },
      "execution_count": 31,
      "outputs": [
        {
          "output_type": "display_data",
          "data": {
            "text/plain": [
              "<IPython.core.display.HTML object>"
            ],
            "text/html": [
              "\n",
              "     <input type=\"file\" id=\"files-7c771be5-44eb-48f3-8265-8899e109e4b6\" name=\"files[]\" multiple disabled\n",
              "        style=\"border:none\" />\n",
              "     <output id=\"result-7c771be5-44eb-48f3-8265-8899e109e4b6\">\n",
              "      Upload widget is only available when the cell has been executed in the\n",
              "      current browser session. Please rerun this cell to enable.\n",
              "      </output>\n",
              "      <script>// Copyright 2017 Google LLC\n",
              "//\n",
              "// Licensed under the Apache License, Version 2.0 (the \"License\");\n",
              "// you may not use this file except in compliance with the License.\n",
              "// You may obtain a copy of the License at\n",
              "//\n",
              "//      http://www.apache.org/licenses/LICENSE-2.0\n",
              "//\n",
              "// Unless required by applicable law or agreed to in writing, software\n",
              "// distributed under the License is distributed on an \"AS IS\" BASIS,\n",
              "// WITHOUT WARRANTIES OR CONDITIONS OF ANY KIND, either express or implied.\n",
              "// See the License for the specific language governing permissions and\n",
              "// limitations under the License.\n",
              "\n",
              "/**\n",
              " * @fileoverview Helpers for google.colab Python module.\n",
              " */\n",
              "(function(scope) {\n",
              "function span(text, styleAttributes = {}) {\n",
              "  const element = document.createElement('span');\n",
              "  element.textContent = text;\n",
              "  for (const key of Object.keys(styleAttributes)) {\n",
              "    element.style[key] = styleAttributes[key];\n",
              "  }\n",
              "  return element;\n",
              "}\n",
              "\n",
              "// Max number of bytes which will be uploaded at a time.\n",
              "const MAX_PAYLOAD_SIZE = 100 * 1024;\n",
              "\n",
              "function _uploadFiles(inputId, outputId) {\n",
              "  const steps = uploadFilesStep(inputId, outputId);\n",
              "  const outputElement = document.getElementById(outputId);\n",
              "  // Cache steps on the outputElement to make it available for the next call\n",
              "  // to uploadFilesContinue from Python.\n",
              "  outputElement.steps = steps;\n",
              "\n",
              "  return _uploadFilesContinue(outputId);\n",
              "}\n",
              "\n",
              "// This is roughly an async generator (not supported in the browser yet),\n",
              "// where there are multiple asynchronous steps and the Python side is going\n",
              "// to poll for completion of each step.\n",
              "// This uses a Promise to block the python side on completion of each step,\n",
              "// then passes the result of the previous step as the input to the next step.\n",
              "function _uploadFilesContinue(outputId) {\n",
              "  const outputElement = document.getElementById(outputId);\n",
              "  const steps = outputElement.steps;\n",
              "\n",
              "  const next = steps.next(outputElement.lastPromiseValue);\n",
              "  return Promise.resolve(next.value.promise).then((value) => {\n",
              "    // Cache the last promise value to make it available to the next\n",
              "    // step of the generator.\n",
              "    outputElement.lastPromiseValue = value;\n",
              "    return next.value.response;\n",
              "  });\n",
              "}\n",
              "\n",
              "/**\n",
              " * Generator function which is called between each async step of the upload\n",
              " * process.\n",
              " * @param {string} inputId Element ID of the input file picker element.\n",
              " * @param {string} outputId Element ID of the output display.\n",
              " * @return {!Iterable<!Object>} Iterable of next steps.\n",
              " */\n",
              "function* uploadFilesStep(inputId, outputId) {\n",
              "  const inputElement = document.getElementById(inputId);\n",
              "  inputElement.disabled = false;\n",
              "\n",
              "  const outputElement = document.getElementById(outputId);\n",
              "  outputElement.innerHTML = '';\n",
              "\n",
              "  const pickedPromise = new Promise((resolve) => {\n",
              "    inputElement.addEventListener('change', (e) => {\n",
              "      resolve(e.target.files);\n",
              "    });\n",
              "  });\n",
              "\n",
              "  const cancel = document.createElement('button');\n",
              "  inputElement.parentElement.appendChild(cancel);\n",
              "  cancel.textContent = 'Cancel upload';\n",
              "  const cancelPromise = new Promise((resolve) => {\n",
              "    cancel.onclick = () => {\n",
              "      resolve(null);\n",
              "    };\n",
              "  });\n",
              "\n",
              "  // Wait for the user to pick the files.\n",
              "  const files = yield {\n",
              "    promise: Promise.race([pickedPromise, cancelPromise]),\n",
              "    response: {\n",
              "      action: 'starting',\n",
              "    }\n",
              "  };\n",
              "\n",
              "  cancel.remove();\n",
              "\n",
              "  // Disable the input element since further picks are not allowed.\n",
              "  inputElement.disabled = true;\n",
              "\n",
              "  if (!files) {\n",
              "    return {\n",
              "      response: {\n",
              "        action: 'complete',\n",
              "      }\n",
              "    };\n",
              "  }\n",
              "\n",
              "  for (const file of files) {\n",
              "    const li = document.createElement('li');\n",
              "    li.append(span(file.name, {fontWeight: 'bold'}));\n",
              "    li.append(span(\n",
              "        `(${file.type || 'n/a'}) - ${file.size} bytes, ` +\n",
              "        `last modified: ${\n",
              "            file.lastModifiedDate ? file.lastModifiedDate.toLocaleDateString() :\n",
              "                                    'n/a'} - `));\n",
              "    const percent = span('0% done');\n",
              "    li.appendChild(percent);\n",
              "\n",
              "    outputElement.appendChild(li);\n",
              "\n",
              "    const fileDataPromise = new Promise((resolve) => {\n",
              "      const reader = new FileReader();\n",
              "      reader.onload = (e) => {\n",
              "        resolve(e.target.result);\n",
              "      };\n",
              "      reader.readAsArrayBuffer(file);\n",
              "    });\n",
              "    // Wait for the data to be ready.\n",
              "    let fileData = yield {\n",
              "      promise: fileDataPromise,\n",
              "      response: {\n",
              "        action: 'continue',\n",
              "      }\n",
              "    };\n",
              "\n",
              "    // Use a chunked sending to avoid message size limits. See b/62115660.\n",
              "    let position = 0;\n",
              "    do {\n",
              "      const length = Math.min(fileData.byteLength - position, MAX_PAYLOAD_SIZE);\n",
              "      const chunk = new Uint8Array(fileData, position, length);\n",
              "      position += length;\n",
              "\n",
              "      const base64 = btoa(String.fromCharCode.apply(null, chunk));\n",
              "      yield {\n",
              "        response: {\n",
              "          action: 'append',\n",
              "          file: file.name,\n",
              "          data: base64,\n",
              "        },\n",
              "      };\n",
              "\n",
              "      let percentDone = fileData.byteLength === 0 ?\n",
              "          100 :\n",
              "          Math.round((position / fileData.byteLength) * 100);\n",
              "      percent.textContent = `${percentDone}% done`;\n",
              "\n",
              "    } while (position < fileData.byteLength);\n",
              "  }\n",
              "\n",
              "  // All done.\n",
              "  yield {\n",
              "    response: {\n",
              "      action: 'complete',\n",
              "    }\n",
              "  };\n",
              "}\n",
              "\n",
              "scope.google = scope.google || {};\n",
              "scope.google.colab = scope.google.colab || {};\n",
              "scope.google.colab._files = {\n",
              "  _uploadFiles,\n",
              "  _uploadFilesContinue,\n",
              "};\n",
              "})(self);\n",
              "</script> "
            ]
          },
          "metadata": {}
        },
        {
          "output_type": "stream",
          "name": "stdout",
          "text": [
            "Saving goal_data.csv to goal_data.csv\n"
          ]
        }
      ]
    },
    {
      "cell_type": "code",
      "source": [
        "df=pd.read_csv(\"goal_data.csv\")\n",
        "print(df.tail())\n",
        "print(df.head())\n",
        "print(df.shape)\n",
        "print(df.describe)"
      ],
      "metadata": {
        "colab": {
          "base_uri": "https://localhost:8080/"
        },
        "id": "WTcRYQYKPORn",
        "outputId": "0c829bfb-0c5a-4937-eda9-793a06f4499f"
      },
      "execution_count": 39,
      "outputs": [
        {
          "output_type": "stream",
          "name": "stdout",
          "text": [
            "        ID    Home     Away  Stage     Scorer ScoringTeam     Type\n",
            "170  FR165  France  Croatia  Final    Perisic     Croatia   Inside\n",
            "171  FR166  France  Croatia  Final  Griezmann      France  Penalty\n",
            "172  FR167  France  Croatia  Final      Pogba      France  Outside\n",
            "173  FR168  France  Croatia  Final     Mbappe      France  Outside\n",
            "174  FR169  France  Croatia  Final  Mandzukic     Croatia   Inside\n",
            "      ID    Home          Away        Stage     Scorer ScoringTeam      Type\n",
            "0  FR001  Russia  Saudi Arabia  GroupRound1   Gazinsky      Russia    Inside\n",
            "1  FR002  Russia  Saudi Arabia  GroupRound1  Cheryshev      Russia    Inside\n",
            "2  FR003  Russia  Saudi Arabia  GroupRound1     Dzyuba      Russia    Inside\n",
            "3  FR004  Russia  Saudi Arabia  GroupRound1  Cheryshev      Russia    Inside\n",
            "4  FR005  Russia  Saudi Arabia  GroupRound1    Golovin      Russia  Freekick\n",
            "(175, 7)\n",
            "<bound method NDFrame.describe of         ID    Home          Away        Stage     Scorer ScoringTeam      Type\n",
            "0    FR001  Russia  Saudi Arabia  GroupRound1   Gazinsky      Russia    Inside\n",
            "1    FR002  Russia  Saudi Arabia  GroupRound1  Cheryshev      Russia    Inside\n",
            "2    FR003  Russia  Saudi Arabia  GroupRound1     Dzyuba      Russia    Inside\n",
            "3    FR004  Russia  Saudi Arabia  GroupRound1  Cheryshev      Russia    Inside\n",
            "4    FR005  Russia  Saudi Arabia  GroupRound1    Golovin      Russia  Freekick\n",
            "..     ...     ...           ...          ...        ...         ...       ...\n",
            "170  FR165  France       Croatia        Final    Perisic     Croatia    Inside\n",
            "171  FR166  France       Croatia        Final  Griezmann      France   Penalty\n",
            "172  FR167  France       Croatia        Final      Pogba      France   Outside\n",
            "173  FR168  France       Croatia        Final     Mbappe      France   Outside\n",
            "174  FR169  France       Croatia        Final  Mandzukic     Croatia    Inside\n",
            "\n",
            "[175 rows x 7 columns]>\n"
          ]
        }
      ]
    },
    {
      "cell_type": "code",
      "source": [
        "from google.colab import files\n",
        "uploaded=files.upload()"
      ],
      "metadata": {
        "colab": {
          "base_uri": "https://localhost:8080/",
          "height": 73
        },
        "id": "5dVuDlBORi6k",
        "outputId": "7ca6a6bb-ea49-49b6-9b06-af011a7afbd2"
      },
      "execution_count": 41,
      "outputs": [
        {
          "output_type": "display_data",
          "data": {
            "text/plain": [
              "<IPython.core.display.HTML object>"
            ],
            "text/html": [
              "\n",
              "     <input type=\"file\" id=\"files-afcf7a5c-0596-47f7-b9ce-d51f8eebe06f\" name=\"files[]\" multiple disabled\n",
              "        style=\"border:none\" />\n",
              "     <output id=\"result-afcf7a5c-0596-47f7-b9ce-d51f8eebe06f\">\n",
              "      Upload widget is only available when the cell has been executed in the\n",
              "      current browser session. Please rerun this cell to enable.\n",
              "      </output>\n",
              "      <script>// Copyright 2017 Google LLC\n",
              "//\n",
              "// Licensed under the Apache License, Version 2.0 (the \"License\");\n",
              "// you may not use this file except in compliance with the License.\n",
              "// You may obtain a copy of the License at\n",
              "//\n",
              "//      http://www.apache.org/licenses/LICENSE-2.0\n",
              "//\n",
              "// Unless required by applicable law or agreed to in writing, software\n",
              "// distributed under the License is distributed on an \"AS IS\" BASIS,\n",
              "// WITHOUT WARRANTIES OR CONDITIONS OF ANY KIND, either express or implied.\n",
              "// See the License for the specific language governing permissions and\n",
              "// limitations under the License.\n",
              "\n",
              "/**\n",
              " * @fileoverview Helpers for google.colab Python module.\n",
              " */\n",
              "(function(scope) {\n",
              "function span(text, styleAttributes = {}) {\n",
              "  const element = document.createElement('span');\n",
              "  element.textContent = text;\n",
              "  for (const key of Object.keys(styleAttributes)) {\n",
              "    element.style[key] = styleAttributes[key];\n",
              "  }\n",
              "  return element;\n",
              "}\n",
              "\n",
              "// Max number of bytes which will be uploaded at a time.\n",
              "const MAX_PAYLOAD_SIZE = 100 * 1024;\n",
              "\n",
              "function _uploadFiles(inputId, outputId) {\n",
              "  const steps = uploadFilesStep(inputId, outputId);\n",
              "  const outputElement = document.getElementById(outputId);\n",
              "  // Cache steps on the outputElement to make it available for the next call\n",
              "  // to uploadFilesContinue from Python.\n",
              "  outputElement.steps = steps;\n",
              "\n",
              "  return _uploadFilesContinue(outputId);\n",
              "}\n",
              "\n",
              "// This is roughly an async generator (not supported in the browser yet),\n",
              "// where there are multiple asynchronous steps and the Python side is going\n",
              "// to poll for completion of each step.\n",
              "// This uses a Promise to block the python side on completion of each step,\n",
              "// then passes the result of the previous step as the input to the next step.\n",
              "function _uploadFilesContinue(outputId) {\n",
              "  const outputElement = document.getElementById(outputId);\n",
              "  const steps = outputElement.steps;\n",
              "\n",
              "  const next = steps.next(outputElement.lastPromiseValue);\n",
              "  return Promise.resolve(next.value.promise).then((value) => {\n",
              "    // Cache the last promise value to make it available to the next\n",
              "    // step of the generator.\n",
              "    outputElement.lastPromiseValue = value;\n",
              "    return next.value.response;\n",
              "  });\n",
              "}\n",
              "\n",
              "/**\n",
              " * Generator function which is called between each async step of the upload\n",
              " * process.\n",
              " * @param {string} inputId Element ID of the input file picker element.\n",
              " * @param {string} outputId Element ID of the output display.\n",
              " * @return {!Iterable<!Object>} Iterable of next steps.\n",
              " */\n",
              "function* uploadFilesStep(inputId, outputId) {\n",
              "  const inputElement = document.getElementById(inputId);\n",
              "  inputElement.disabled = false;\n",
              "\n",
              "  const outputElement = document.getElementById(outputId);\n",
              "  outputElement.innerHTML = '';\n",
              "\n",
              "  const pickedPromise = new Promise((resolve) => {\n",
              "    inputElement.addEventListener('change', (e) => {\n",
              "      resolve(e.target.files);\n",
              "    });\n",
              "  });\n",
              "\n",
              "  const cancel = document.createElement('button');\n",
              "  inputElement.parentElement.appendChild(cancel);\n",
              "  cancel.textContent = 'Cancel upload';\n",
              "  const cancelPromise = new Promise((resolve) => {\n",
              "    cancel.onclick = () => {\n",
              "      resolve(null);\n",
              "    };\n",
              "  });\n",
              "\n",
              "  // Wait for the user to pick the files.\n",
              "  const files = yield {\n",
              "    promise: Promise.race([pickedPromise, cancelPromise]),\n",
              "    response: {\n",
              "      action: 'starting',\n",
              "    }\n",
              "  };\n",
              "\n",
              "  cancel.remove();\n",
              "\n",
              "  // Disable the input element since further picks are not allowed.\n",
              "  inputElement.disabled = true;\n",
              "\n",
              "  if (!files) {\n",
              "    return {\n",
              "      response: {\n",
              "        action: 'complete',\n",
              "      }\n",
              "    };\n",
              "  }\n",
              "\n",
              "  for (const file of files) {\n",
              "    const li = document.createElement('li');\n",
              "    li.append(span(file.name, {fontWeight: 'bold'}));\n",
              "    li.append(span(\n",
              "        `(${file.type || 'n/a'}) - ${file.size} bytes, ` +\n",
              "        `last modified: ${\n",
              "            file.lastModifiedDate ? file.lastModifiedDate.toLocaleDateString() :\n",
              "                                    'n/a'} - `));\n",
              "    const percent = span('0% done');\n",
              "    li.appendChild(percent);\n",
              "\n",
              "    outputElement.appendChild(li);\n",
              "\n",
              "    const fileDataPromise = new Promise((resolve) => {\n",
              "      const reader = new FileReader();\n",
              "      reader.onload = (e) => {\n",
              "        resolve(e.target.result);\n",
              "      };\n",
              "      reader.readAsArrayBuffer(file);\n",
              "    });\n",
              "    // Wait for the data to be ready.\n",
              "    let fileData = yield {\n",
              "      promise: fileDataPromise,\n",
              "      response: {\n",
              "        action: 'continue',\n",
              "      }\n",
              "    };\n",
              "\n",
              "    // Use a chunked sending to avoid message size limits. See b/62115660.\n",
              "    let position = 0;\n",
              "    do {\n",
              "      const length = Math.min(fileData.byteLength - position, MAX_PAYLOAD_SIZE);\n",
              "      const chunk = new Uint8Array(fileData, position, length);\n",
              "      position += length;\n",
              "\n",
              "      const base64 = btoa(String.fromCharCode.apply(null, chunk));\n",
              "      yield {\n",
              "        response: {\n",
              "          action: 'append',\n",
              "          file: file.name,\n",
              "          data: base64,\n",
              "        },\n",
              "      };\n",
              "\n",
              "      let percentDone = fileData.byteLength === 0 ?\n",
              "          100 :\n",
              "          Math.round((position / fileData.byteLength) * 100);\n",
              "      percent.textContent = `${percentDone}% done`;\n",
              "\n",
              "    } while (position < fileData.byteLength);\n",
              "  }\n",
              "\n",
              "  // All done.\n",
              "  yield {\n",
              "    response: {\n",
              "      action: 'complete',\n",
              "    }\n",
              "  };\n",
              "}\n",
              "\n",
              "scope.google = scope.google || {};\n",
              "scope.google.colab = scope.google.colab || {};\n",
              "scope.google.colab._files = {\n",
              "  _uploadFiles,\n",
              "  _uploadFilesContinue,\n",
              "};\n",
              "})(self);\n",
              "</script> "
            ]
          },
          "metadata": {}
        },
        {
          "output_type": "stream",
          "name": "stdout",
          "text": [
            "Saving Book1.xlsx to Book1 (2).xlsx\n"
          ]
        }
      ]
    },
    {
      "cell_type": "code",
      "source": [
        "df=pd.read_excel(\"Book1.xlsx\")\n",
        "print(df.head())"
      ],
      "metadata": {
        "colab": {
          "base_uri": "https://localhost:8080/"
        },
        "id": "GIwjZLORRnm8",
        "outputId": "ffcd6858-86ac-4677-d0d8-ba78f7d45815"
      },
      "execution_count": 42,
      "outputs": [
        {
          "output_type": "stream",
          "name": "stdout",
          "text": [
            "      name  age  id  salary department\n",
            "0     dds     1   8    4554         ai\n",
            "1      dff    1   1    5555        cse\n",
            "2     dvvd    1   2    2221       aiml\n",
            "3        v  231   3    3333         pg\n",
            "4  dvfdvdv    1   4     666         ug\n"
          ]
        }
      ]
    }
  ]
}